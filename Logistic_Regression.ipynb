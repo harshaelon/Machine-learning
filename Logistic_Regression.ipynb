{
  "nbformat": 4,
  "nbformat_minor": 0,
  "metadata": {
    "colab": {
      "provenance": [],
      "authorship_tag": "ABX9TyN23SG+fwCqyN/PQvsjOh97",
      "include_colab_link": true
    },
    "kernelspec": {
      "name": "python3",
      "display_name": "Python 3"
    },
    "language_info": {
      "name": "python"
    }
  },
  "cells": [
    {
      "cell_type": "markdown",
      "metadata": {
        "id": "view-in-github",
        "colab_type": "text"
      },
      "source": [
        "<a href=\"https://colab.research.google.com/github/harshaelon/Machine-learning/blob/main/Logistic_Regression.ipynb\" target=\"_parent\"><img src=\"https://colab.research.google.com/assets/colab-badge.svg\" alt=\"Open In Colab\"/></a>"
      ]
    },
    {
      "cell_type": "markdown",
      "source": [
        "# Importing Libraries"
      ],
      "metadata": {
        "id": "EveeGBRLFAJv"
      }
    },
    {
      "cell_type": "code",
      "execution_count": null,
      "metadata": {
        "id": "oCCXhTPxE8Ov"
      },
      "outputs": [],
      "source": [
        "import pandas as pd\n",
        "\n",
        "import numpy as np\n",
        "\n",
        "import matplotlib.pyplot as plt\n",
        "\n",
        "import seaborn as sns\n",
        "\n",
        "%matplotlib inline"
      ]
    },
    {
      "cell_type": "markdown",
      "source": [
        "# creating a dataset"
      ],
      "metadata": {
        "id": "orr1uCdCFQjP"
      }
    },
    {
      "cell_type": "code",
      "source": [
        "from sklearn.datasets import make_classification\n",
        "\n",
        "# using the above library fucntion we can define how many output classes we need\n",
        "# and it will create the dataset in such a way that it's already standardized\n",
        "# means we dont need to do any standardization here."
      ],
      "metadata": {
        "id": "DgBnhOWBFOmq"
      },
      "execution_count": null,
      "outputs": []
    },
    {
      "cell_type": "code",
      "source": [
        "X,y = make_classification(n_samples=1000 , n_features=10 , n_classes = 2 , random_state = 1)"
      ],
      "metadata": {
        "id": "sKjHwmgZFez5"
      },
      "execution_count": null,
      "outputs": []
    },
    {
      "cell_type": "code",
      "source": [
        "# so the above function returns two things one the dependent feature and othere independent."
      ],
      "metadata": {
        "id": "JuHL2djuGLmJ"
      },
      "execution_count": null,
      "outputs": []
    },
    {
      "cell_type": "code",
      "source": [
        "X"
      ],
      "metadata": {
        "colab": {
          "base_uri": "https://localhost:8080/"
        },
        "id": "iapM5o37GaZA",
        "outputId": "fe46e863-6ada-4a3e-b630-a68a78f395f3"
      },
      "execution_count": null,
      "outputs": [
        {
          "output_type": "execute_result",
          "data": {
            "text/plain": [
              "array([[-2.10118662, -0.24720775, -1.98933489, ...,  2.07052553,\n",
              "         0.09152688, -2.37639956],\n",
              "       [ 0.32370343, -0.12689445, -1.30952433, ...,  1.18481987,\n",
              "        -0.186802  ,  1.96932634],\n",
              "       [ 2.23203753,  0.33412256, -0.85270339, ..., -0.06644818,\n",
              "        -0.31388129,  1.49917393],\n",
              "       ...,\n",
              "       [-1.16966316,  0.2306405 , -2.71039374, ...,  0.02149968,\n",
              "        -1.06680089,  0.52886752],\n",
              "       [-2.64618249, -0.11784427,  0.14937733, ...,  0.34047267,\n",
              "        -0.27694042, -0.87101392],\n",
              "       [-4.07569534, -0.33130612, -0.11181622, ..., -0.4164757 ,\n",
              "         0.36444447, -0.534328  ]])"
            ]
          },
          "metadata": {},
          "execution_count": 36
        }
      ]
    },
    {
      "cell_type": "code",
      "source": [
        "pd.DataFrame(X)"
      ],
      "metadata": {
        "colab": {
          "base_uri": "https://localhost:8080/",
          "height": 443
        },
        "id": "G-GXHHe3GaVg",
        "outputId": "820f532f-129e-4a4b-8e5c-b526566791f3"
      },
      "execution_count": null,
      "outputs": [
        {
          "output_type": "execute_result",
          "data": {
            "text/plain": [
              "            0         1         2         3         4         5         6  \\\n",
              "0   -2.101187 -0.247208 -1.989335 -1.484556  1.128668 -0.925564  1.210290   \n",
              "1    0.323703 -0.126894 -1.309524 -0.022738 -0.398725  0.280419  0.034598   \n",
              "2    2.232038  0.334123 -0.852703  3.289016  0.331944  0.044767 -2.233844   \n",
              "3   -0.428456  1.627132  0.484649  0.938373  1.339947 -0.869036  0.943132   \n",
              "4    0.386012  0.338141 -0.186530  2.369137  1.667284 -0.979107  0.951526   \n",
              "..        ...       ...       ...       ...       ...       ...       ...   \n",
              "995 -1.148812 -0.048464  0.555170 -2.167311 -0.595136  0.237045 -1.241394   \n",
              "996  1.585814  1.269868  1.193456  2.321360  0.222056  0.040255  2.260748   \n",
              "997 -1.169663  0.230641 -2.710394 -3.217224 -1.509607  0.795293 -0.854581   \n",
              "998 -2.646182 -0.117844  0.149377 -0.377960  2.755272 -1.983281 -1.865016   \n",
              "999 -4.075695 -0.331306 -0.111816 -2.867222  2.200368 -1.802118 -1.288487   \n",
              "\n",
              "            7         8         9  \n",
              "0    2.070526  0.091527 -2.376400  \n",
              "1    1.184820 -0.186802  1.969326  \n",
              "2   -0.066448 -0.313881  1.499174  \n",
              "3    0.713558 -0.468041  0.075341  \n",
              "4    0.398790  0.729005  0.372213  \n",
              "..        ...       ...       ...  \n",
              "995 -0.144619 -0.136638 -1.363868  \n",
              "996 -0.182916 -0.959332  0.263967  \n",
              "997  0.021500 -1.066801  0.528868  \n",
              "998  0.340473 -0.276940 -0.871014  \n",
              "999 -0.416476  0.364444 -0.534328  \n",
              "\n",
              "[1000 rows x 10 columns]"
            ],
            "text/html": [
              "\n",
              "  <div id=\"df-2f162739-7457-4c18-a085-a104be97b1d4\" class=\"colab-df-container\">\n",
              "    <div>\n",
              "<style scoped>\n",
              "    .dataframe tbody tr th:only-of-type {\n",
              "        vertical-align: middle;\n",
              "    }\n",
              "\n",
              "    .dataframe tbody tr th {\n",
              "        vertical-align: top;\n",
              "    }\n",
              "\n",
              "    .dataframe thead th {\n",
              "        text-align: right;\n",
              "    }\n",
              "</style>\n",
              "<table border=\"1\" class=\"dataframe\">\n",
              "  <thead>\n",
              "    <tr style=\"text-align: right;\">\n",
              "      <th></th>\n",
              "      <th>0</th>\n",
              "      <th>1</th>\n",
              "      <th>2</th>\n",
              "      <th>3</th>\n",
              "      <th>4</th>\n",
              "      <th>5</th>\n",
              "      <th>6</th>\n",
              "      <th>7</th>\n",
              "      <th>8</th>\n",
              "      <th>9</th>\n",
              "    </tr>\n",
              "  </thead>\n",
              "  <tbody>\n",
              "    <tr>\n",
              "      <th>0</th>\n",
              "      <td>-2.101187</td>\n",
              "      <td>-0.247208</td>\n",
              "      <td>-1.989335</td>\n",
              "      <td>-1.484556</td>\n",
              "      <td>1.128668</td>\n",
              "      <td>-0.925564</td>\n",
              "      <td>1.210290</td>\n",
              "      <td>2.070526</td>\n",
              "      <td>0.091527</td>\n",
              "      <td>-2.376400</td>\n",
              "    </tr>\n",
              "    <tr>\n",
              "      <th>1</th>\n",
              "      <td>0.323703</td>\n",
              "      <td>-0.126894</td>\n",
              "      <td>-1.309524</td>\n",
              "      <td>-0.022738</td>\n",
              "      <td>-0.398725</td>\n",
              "      <td>0.280419</td>\n",
              "      <td>0.034598</td>\n",
              "      <td>1.184820</td>\n",
              "      <td>-0.186802</td>\n",
              "      <td>1.969326</td>\n",
              "    </tr>\n",
              "    <tr>\n",
              "      <th>2</th>\n",
              "      <td>2.232038</td>\n",
              "      <td>0.334123</td>\n",
              "      <td>-0.852703</td>\n",
              "      <td>3.289016</td>\n",
              "      <td>0.331944</td>\n",
              "      <td>0.044767</td>\n",
              "      <td>-2.233844</td>\n",
              "      <td>-0.066448</td>\n",
              "      <td>-0.313881</td>\n",
              "      <td>1.499174</td>\n",
              "    </tr>\n",
              "    <tr>\n",
              "      <th>3</th>\n",
              "      <td>-0.428456</td>\n",
              "      <td>1.627132</td>\n",
              "      <td>0.484649</td>\n",
              "      <td>0.938373</td>\n",
              "      <td>1.339947</td>\n",
              "      <td>-0.869036</td>\n",
              "      <td>0.943132</td>\n",
              "      <td>0.713558</td>\n",
              "      <td>-0.468041</td>\n",
              "      <td>0.075341</td>\n",
              "    </tr>\n",
              "    <tr>\n",
              "      <th>4</th>\n",
              "      <td>0.386012</td>\n",
              "      <td>0.338141</td>\n",
              "      <td>-0.186530</td>\n",
              "      <td>2.369137</td>\n",
              "      <td>1.667284</td>\n",
              "      <td>-0.979107</td>\n",
              "      <td>0.951526</td>\n",
              "      <td>0.398790</td>\n",
              "      <td>0.729005</td>\n",
              "      <td>0.372213</td>\n",
              "    </tr>\n",
              "    <tr>\n",
              "      <th>...</th>\n",
              "      <td>...</td>\n",
              "      <td>...</td>\n",
              "      <td>...</td>\n",
              "      <td>...</td>\n",
              "      <td>...</td>\n",
              "      <td>...</td>\n",
              "      <td>...</td>\n",
              "      <td>...</td>\n",
              "      <td>...</td>\n",
              "      <td>...</td>\n",
              "    </tr>\n",
              "    <tr>\n",
              "      <th>995</th>\n",
              "      <td>-1.148812</td>\n",
              "      <td>-0.048464</td>\n",
              "      <td>0.555170</td>\n",
              "      <td>-2.167311</td>\n",
              "      <td>-0.595136</td>\n",
              "      <td>0.237045</td>\n",
              "      <td>-1.241394</td>\n",
              "      <td>-0.144619</td>\n",
              "      <td>-0.136638</td>\n",
              "      <td>-1.363868</td>\n",
              "    </tr>\n",
              "    <tr>\n",
              "      <th>996</th>\n",
              "      <td>1.585814</td>\n",
              "      <td>1.269868</td>\n",
              "      <td>1.193456</td>\n",
              "      <td>2.321360</td>\n",
              "      <td>0.222056</td>\n",
              "      <td>0.040255</td>\n",
              "      <td>2.260748</td>\n",
              "      <td>-0.182916</td>\n",
              "      <td>-0.959332</td>\n",
              "      <td>0.263967</td>\n",
              "    </tr>\n",
              "    <tr>\n",
              "      <th>997</th>\n",
              "      <td>-1.169663</td>\n",
              "      <td>0.230641</td>\n",
              "      <td>-2.710394</td>\n",
              "      <td>-3.217224</td>\n",
              "      <td>-1.509607</td>\n",
              "      <td>0.795293</td>\n",
              "      <td>-0.854581</td>\n",
              "      <td>0.021500</td>\n",
              "      <td>-1.066801</td>\n",
              "      <td>0.528868</td>\n",
              "    </tr>\n",
              "    <tr>\n",
              "      <th>998</th>\n",
              "      <td>-2.646182</td>\n",
              "      <td>-0.117844</td>\n",
              "      <td>0.149377</td>\n",
              "      <td>-0.377960</td>\n",
              "      <td>2.755272</td>\n",
              "      <td>-1.983281</td>\n",
              "      <td>-1.865016</td>\n",
              "      <td>0.340473</td>\n",
              "      <td>-0.276940</td>\n",
              "      <td>-0.871014</td>\n",
              "    </tr>\n",
              "    <tr>\n",
              "      <th>999</th>\n",
              "      <td>-4.075695</td>\n",
              "      <td>-0.331306</td>\n",
              "      <td>-0.111816</td>\n",
              "      <td>-2.867222</td>\n",
              "      <td>2.200368</td>\n",
              "      <td>-1.802118</td>\n",
              "      <td>-1.288487</td>\n",
              "      <td>-0.416476</td>\n",
              "      <td>0.364444</td>\n",
              "      <td>-0.534328</td>\n",
              "    </tr>\n",
              "  </tbody>\n",
              "</table>\n",
              "<p>1000 rows × 10 columns</p>\n",
              "</div>\n",
              "    <div class=\"colab-df-buttons\">\n",
              "\n",
              "  <div class=\"colab-df-container\">\n",
              "    <button class=\"colab-df-convert\" onclick=\"convertToInteractive('df-2f162739-7457-4c18-a085-a104be97b1d4')\"\n",
              "            title=\"Convert this dataframe to an interactive table.\"\n",
              "            style=\"display:none;\">\n",
              "\n",
              "  <svg xmlns=\"http://www.w3.org/2000/svg\" height=\"24px\" viewBox=\"0 -960 960 960\">\n",
              "    <path d=\"M120-120v-720h720v720H120Zm60-500h600v-160H180v160Zm220 220h160v-160H400v160Zm0 220h160v-160H400v160ZM180-400h160v-160H180v160Zm440 0h160v-160H620v160ZM180-180h160v-160H180v160Zm440 0h160v-160H620v160Z\"/>\n",
              "  </svg>\n",
              "    </button>\n",
              "\n",
              "  <style>\n",
              "    .colab-df-container {\n",
              "      display:flex;\n",
              "      gap: 12px;\n",
              "    }\n",
              "\n",
              "    .colab-df-convert {\n",
              "      background-color: #E8F0FE;\n",
              "      border: none;\n",
              "      border-radius: 50%;\n",
              "      cursor: pointer;\n",
              "      display: none;\n",
              "      fill: #1967D2;\n",
              "      height: 32px;\n",
              "      padding: 0 0 0 0;\n",
              "      width: 32px;\n",
              "    }\n",
              "\n",
              "    .colab-df-convert:hover {\n",
              "      background-color: #E2EBFA;\n",
              "      box-shadow: 0px 1px 2px rgba(60, 64, 67, 0.3), 0px 1px 3px 1px rgba(60, 64, 67, 0.15);\n",
              "      fill: #174EA6;\n",
              "    }\n",
              "\n",
              "    .colab-df-buttons div {\n",
              "      margin-bottom: 4px;\n",
              "    }\n",
              "\n",
              "    [theme=dark] .colab-df-convert {\n",
              "      background-color: #3B4455;\n",
              "      fill: #D2E3FC;\n",
              "    }\n",
              "\n",
              "    [theme=dark] .colab-df-convert:hover {\n",
              "      background-color: #434B5C;\n",
              "      box-shadow: 0px 1px 3px 1px rgba(0, 0, 0, 0.15);\n",
              "      filter: drop-shadow(0px 1px 2px rgba(0, 0, 0, 0.3));\n",
              "      fill: #FFFFFF;\n",
              "    }\n",
              "  </style>\n",
              "\n",
              "    <script>\n",
              "      const buttonEl =\n",
              "        document.querySelector('#df-2f162739-7457-4c18-a085-a104be97b1d4 button.colab-df-convert');\n",
              "      buttonEl.style.display =\n",
              "        google.colab.kernel.accessAllowed ? 'block' : 'none';\n",
              "\n",
              "      async function convertToInteractive(key) {\n",
              "        const element = document.querySelector('#df-2f162739-7457-4c18-a085-a104be97b1d4');\n",
              "        const dataTable =\n",
              "          await google.colab.kernel.invokeFunction('convertToInteractive',\n",
              "                                                    [key], {});\n",
              "        if (!dataTable) return;\n",
              "\n",
              "        const docLinkHtml = 'Like what you see? Visit the ' +\n",
              "          '<a target=\"_blank\" href=https://colab.research.google.com/notebooks/data_table.ipynb>data table notebook</a>'\n",
              "          + ' to learn more about interactive tables.';\n",
              "        element.innerHTML = '';\n",
              "        dataTable['output_type'] = 'display_data';\n",
              "        await google.colab.output.renderOutput(dataTable, element);\n",
              "        const docLink = document.createElement('div');\n",
              "        docLink.innerHTML = docLinkHtml;\n",
              "        element.appendChild(docLink);\n",
              "      }\n",
              "    </script>\n",
              "  </div>\n",
              "\n",
              "\n",
              "<div id=\"df-4231a284-74a7-4dd1-a505-218d9377b6ba\">\n",
              "  <button class=\"colab-df-quickchart\" onclick=\"quickchart('df-4231a284-74a7-4dd1-a505-218d9377b6ba')\"\n",
              "            title=\"Suggest charts\"\n",
              "            style=\"display:none;\">\n",
              "\n",
              "<svg xmlns=\"http://www.w3.org/2000/svg\" height=\"24px\"viewBox=\"0 0 24 24\"\n",
              "     width=\"24px\">\n",
              "    <g>\n",
              "        <path d=\"M19 3H5c-1.1 0-2 .9-2 2v14c0 1.1.9 2 2 2h14c1.1 0 2-.9 2-2V5c0-1.1-.9-2-2-2zM9 17H7v-7h2v7zm4 0h-2V7h2v10zm4 0h-2v-4h2v4z\"/>\n",
              "    </g>\n",
              "</svg>\n",
              "  </button>\n",
              "\n",
              "<style>\n",
              "  .colab-df-quickchart {\n",
              "      --bg-color: #E8F0FE;\n",
              "      --fill-color: #1967D2;\n",
              "      --hover-bg-color: #E2EBFA;\n",
              "      --hover-fill-color: #174EA6;\n",
              "      --disabled-fill-color: #AAA;\n",
              "      --disabled-bg-color: #DDD;\n",
              "  }\n",
              "\n",
              "  [theme=dark] .colab-df-quickchart {\n",
              "      --bg-color: #3B4455;\n",
              "      --fill-color: #D2E3FC;\n",
              "      --hover-bg-color: #434B5C;\n",
              "      --hover-fill-color: #FFFFFF;\n",
              "      --disabled-bg-color: #3B4455;\n",
              "      --disabled-fill-color: #666;\n",
              "  }\n",
              "\n",
              "  .colab-df-quickchart {\n",
              "    background-color: var(--bg-color);\n",
              "    border: none;\n",
              "    border-radius: 50%;\n",
              "    cursor: pointer;\n",
              "    display: none;\n",
              "    fill: var(--fill-color);\n",
              "    height: 32px;\n",
              "    padding: 0;\n",
              "    width: 32px;\n",
              "  }\n",
              "\n",
              "  .colab-df-quickchart:hover {\n",
              "    background-color: var(--hover-bg-color);\n",
              "    box-shadow: 0 1px 2px rgba(60, 64, 67, 0.3), 0 1px 3px 1px rgba(60, 64, 67, 0.15);\n",
              "    fill: var(--button-hover-fill-color);\n",
              "  }\n",
              "\n",
              "  .colab-df-quickchart-complete:disabled,\n",
              "  .colab-df-quickchart-complete:disabled:hover {\n",
              "    background-color: var(--disabled-bg-color);\n",
              "    fill: var(--disabled-fill-color);\n",
              "    box-shadow: none;\n",
              "  }\n",
              "\n",
              "  .colab-df-spinner {\n",
              "    border: 2px solid var(--fill-color);\n",
              "    border-color: transparent;\n",
              "    border-bottom-color: var(--fill-color);\n",
              "    animation:\n",
              "      spin 1s steps(1) infinite;\n",
              "  }\n",
              "\n",
              "  @keyframes spin {\n",
              "    0% {\n",
              "      border-color: transparent;\n",
              "      border-bottom-color: var(--fill-color);\n",
              "      border-left-color: var(--fill-color);\n",
              "    }\n",
              "    20% {\n",
              "      border-color: transparent;\n",
              "      border-left-color: var(--fill-color);\n",
              "      border-top-color: var(--fill-color);\n",
              "    }\n",
              "    30% {\n",
              "      border-color: transparent;\n",
              "      border-left-color: var(--fill-color);\n",
              "      border-top-color: var(--fill-color);\n",
              "      border-right-color: var(--fill-color);\n",
              "    }\n",
              "    40% {\n",
              "      border-color: transparent;\n",
              "      border-right-color: var(--fill-color);\n",
              "      border-top-color: var(--fill-color);\n",
              "    }\n",
              "    60% {\n",
              "      border-color: transparent;\n",
              "      border-right-color: var(--fill-color);\n",
              "    }\n",
              "    80% {\n",
              "      border-color: transparent;\n",
              "      border-right-color: var(--fill-color);\n",
              "      border-bottom-color: var(--fill-color);\n",
              "    }\n",
              "    90% {\n",
              "      border-color: transparent;\n",
              "      border-bottom-color: var(--fill-color);\n",
              "    }\n",
              "  }\n",
              "</style>\n",
              "\n",
              "  <script>\n",
              "    async function quickchart(key) {\n",
              "      const quickchartButtonEl =\n",
              "        document.querySelector('#' + key + ' button');\n",
              "      quickchartButtonEl.disabled = true;  // To prevent multiple clicks.\n",
              "      quickchartButtonEl.classList.add('colab-df-spinner');\n",
              "      try {\n",
              "        const charts = await google.colab.kernel.invokeFunction(\n",
              "            'suggestCharts', [key], {});\n",
              "      } catch (error) {\n",
              "        console.error('Error during call to suggestCharts:', error);\n",
              "      }\n",
              "      quickchartButtonEl.classList.remove('colab-df-spinner');\n",
              "      quickchartButtonEl.classList.add('colab-df-quickchart-complete');\n",
              "    }\n",
              "    (() => {\n",
              "      let quickchartButtonEl =\n",
              "        document.querySelector('#df-4231a284-74a7-4dd1-a505-218d9377b6ba button');\n",
              "      quickchartButtonEl.style.display =\n",
              "        google.colab.kernel.accessAllowed ? 'block' : 'none';\n",
              "    })();\n",
              "  </script>\n",
              "</div>\n",
              "\n",
              "    </div>\n",
              "  </div>\n"
            ],
            "application/vnd.google.colaboratory.intrinsic+json": {
              "type": "dataframe",
              "summary": "{\n  \"name\": \"pd\",\n  \"rows\": 1000,\n  \"fields\": [\n    {\n      \"column\": 0,\n      \"properties\": {\n        \"dtype\": \"number\",\n        \"std\": 1.6272377645298235,\n        \"min\": -5.4587088411371845,\n        \"max\": 3.880047373452698,\n        \"num_unique_values\": 1000,\n        \"samples\": [\n          1.7386330975581408,\n          0.5311846860005136,\n          1.254882909300312\n        ],\n        \"semantic_type\": \"\",\n        \"description\": \"\"\n      }\n    },\n    {\n      \"column\": 1,\n      \"properties\": {\n        \"dtype\": \"number\",\n        \"std\": 0.9614644919920788,\n        \"min\": -2.801562216525524,\n        \"max\": 3.135047340087907,\n        \"num_unique_values\": 1000,\n        \"samples\": [\n          2.0434699799311615,\n          -2.679844748073374,\n          0.4551937372293573\n        ],\n        \"semantic_type\": \"\",\n        \"description\": \"\"\n      }\n    },\n    {\n      \"column\": 2,\n      \"properties\": {\n        \"dtype\": \"number\",\n        \"std\": 0.968102392785803,\n        \"min\": -3.2191321056238418,\n        \"max\": 2.9757892887320176,\n        \"num_unique_values\": 1000,\n        \"samples\": [\n          0.338016911783674,\n          2.9268333698571896,\n          -0.3117201931557575\n        ],\n        \"semantic_type\": \"\",\n        \"description\": \"\"\n      }\n    },\n    {\n      \"column\": 3,\n      \"properties\": {\n        \"dtype\": \"number\",\n        \"std\": 1.4127765365739757,\n        \"min\": -4.033670388380984,\n        \"max\": 3.747581040854211,\n        \"num_unique_values\": 1000,\n        \"samples\": [\n          -0.35448157105061784,\n          1.7270466825625403,\n          0.44852611721828495\n        ],\n        \"semantic_type\": \"\",\n        \"description\": \"\"\n      }\n    },\n    {\n      \"column\": 4,\n      \"properties\": {\n        \"dtype\": \"number\",\n        \"std\": 1.3548488806672847,\n        \"min\": -3.7615439187468307,\n        \"max\": 4.636961158177204,\n        \"num_unique_values\": 1000,\n        \"samples\": [\n          -2.3493524657254206,\n          0.9234196604787974,\n          -1.0658144819534132\n        ],\n        \"semantic_type\": \"\",\n        \"description\": \"\"\n      }\n    },\n    {\n      \"column\": 5,\n      \"properties\": {\n        \"dtype\": \"number\",\n        \"std\": 0.9734052137741994,\n        \"min\": -3.1672569558564465,\n        \"max\": 2.5697749813374124,\n        \"num_unique_values\": 1000,\n        \"samples\": [\n          1.6335160813850413,\n          -0.5069744594630644,\n          0.7929089847163843\n        ],\n        \"semantic_type\": \"\",\n        \"description\": \"\"\n      }\n    },\n    {\n      \"column\": 6,\n      \"properties\": {\n        \"dtype\": \"number\",\n        \"std\": 0.9950671430765369,\n        \"min\": -2.543577802765871,\n        \"max\": 4.026849044547378,\n        \"num_unique_values\": 1000,\n        \"samples\": [\n          0.34307481861482325,\n          0.3967291088823291,\n          0.21264851181088862\n        ],\n        \"semantic_type\": \"\",\n        \"description\": \"\"\n      }\n    },\n    {\n      \"column\": 7,\n      \"properties\": {\n        \"dtype\": \"number\",\n        \"std\": 1.0228671199716461,\n        \"min\": -3.2948584066985145,\n        \"max\": 2.7421552116822685,\n        \"num_unique_values\": 1000,\n        \"samples\": [\n          1.819773086209831,\n          1.1908791328619037,\n          -0.21022923062351842\n        ],\n        \"semantic_type\": \"\",\n        \"description\": \"\"\n      }\n    },\n    {\n      \"column\": 8,\n      \"properties\": {\n        \"dtype\": \"number\",\n        \"std\": 1.0315815180868269,\n        \"min\": -3.253034234976619,\n        \"max\": 3.4043022757489716,\n        \"num_unique_values\": 1000,\n        \"samples\": [\n          1.122974756204621,\n          -0.9445635466302369,\n          0.9575382708350655\n        ],\n        \"semantic_type\": \"\",\n        \"description\": \"\"\n      }\n    },\n    {\n      \"column\": 9,\n      \"properties\": {\n        \"dtype\": \"number\",\n        \"std\": 1.0083391832899016,\n        \"min\": -2.710516877531033,\n        \"max\": 3.740248903704589,\n        \"num_unique_values\": 1000,\n        \"samples\": [\n          0.3241130623760646,\n          1.297453646659088,\n          -1.2264924905137744\n        ],\n        \"semantic_type\": \"\",\n        \"description\": \"\"\n      }\n    }\n  ]\n}"
            }
          },
          "metadata": {},
          "execution_count": 37
        }
      ]
    },
    {
      "cell_type": "code",
      "source": [
        "from sklearn.model_selection import train_test_split"
      ],
      "metadata": {
        "id": "yl65QIbgGaTF"
      },
      "execution_count": null,
      "outputs": []
    },
    {
      "cell_type": "code",
      "source": [
        "X_train , X_test , y_train, y_test = train_test_split(X,y,test_size=0.30,random_state=42)"
      ],
      "metadata": {
        "id": "u7q9S0HwGaQs"
      },
      "execution_count": null,
      "outputs": []
    },
    {
      "cell_type": "markdown",
      "source": [
        "#Model Training"
      ],
      "metadata": {
        "id": "U7phXbWAG1W7"
      }
    },
    {
      "cell_type": "code",
      "source": [
        "from sklearn.linear_model import LogisticRegression"
      ],
      "metadata": {
        "id": "DFtz8WmhGaNr"
      },
      "execution_count": null,
      "outputs": []
    },
    {
      "cell_type": "code",
      "source": [
        "logistic = LogisticRegression()"
      ],
      "metadata": {
        "id": "uVFFzZeNGaLN"
      },
      "execution_count": null,
      "outputs": []
    },
    {
      "cell_type": "code",
      "source": [
        "logistic.fit(X_train,y_train)"
      ],
      "metadata": {
        "colab": {
          "base_uri": "https://localhost:8080/",
          "height": 74
        },
        "id": "QpzrKhxEGaIS",
        "outputId": "3b724c60-5a83-42bb-dbe0-4cac1812cfc6"
      },
      "execution_count": null,
      "outputs": [
        {
          "output_type": "execute_result",
          "data": {
            "text/plain": [
              "LogisticRegression()"
            ],
            "text/html": [
              "<style>#sk-container-id-6 {color: black;}#sk-container-id-6 pre{padding: 0;}#sk-container-id-6 div.sk-toggleable {background-color: white;}#sk-container-id-6 label.sk-toggleable__label {cursor: pointer;display: block;width: 100%;margin-bottom: 0;padding: 0.3em;box-sizing: border-box;text-align: center;}#sk-container-id-6 label.sk-toggleable__label-arrow:before {content: \"▸\";float: left;margin-right: 0.25em;color: #696969;}#sk-container-id-6 label.sk-toggleable__label-arrow:hover:before {color: black;}#sk-container-id-6 div.sk-estimator:hover label.sk-toggleable__label-arrow:before {color: black;}#sk-container-id-6 div.sk-toggleable__content {max-height: 0;max-width: 0;overflow: hidden;text-align: left;background-color: #f0f8ff;}#sk-container-id-6 div.sk-toggleable__content pre {margin: 0.2em;color: black;border-radius: 0.25em;background-color: #f0f8ff;}#sk-container-id-6 input.sk-toggleable__control:checked~div.sk-toggleable__content {max-height: 200px;max-width: 100%;overflow: auto;}#sk-container-id-6 input.sk-toggleable__control:checked~label.sk-toggleable__label-arrow:before {content: \"▾\";}#sk-container-id-6 div.sk-estimator input.sk-toggleable__control:checked~label.sk-toggleable__label {background-color: #d4ebff;}#sk-container-id-6 div.sk-label input.sk-toggleable__control:checked~label.sk-toggleable__label {background-color: #d4ebff;}#sk-container-id-6 input.sk-hidden--visually {border: 0;clip: rect(1px 1px 1px 1px);clip: rect(1px, 1px, 1px, 1px);height: 1px;margin: -1px;overflow: hidden;padding: 0;position: absolute;width: 1px;}#sk-container-id-6 div.sk-estimator {font-family: monospace;background-color: #f0f8ff;border: 1px dotted black;border-radius: 0.25em;box-sizing: border-box;margin-bottom: 0.5em;}#sk-container-id-6 div.sk-estimator:hover {background-color: #d4ebff;}#sk-container-id-6 div.sk-parallel-item::after {content: \"\";width: 100%;border-bottom: 1px solid gray;flex-grow: 1;}#sk-container-id-6 div.sk-label:hover label.sk-toggleable__label {background-color: #d4ebff;}#sk-container-id-6 div.sk-serial::before {content: \"\";position: absolute;border-left: 1px solid gray;box-sizing: border-box;top: 0;bottom: 0;left: 50%;z-index: 0;}#sk-container-id-6 div.sk-serial {display: flex;flex-direction: column;align-items: center;background-color: white;padding-right: 0.2em;padding-left: 0.2em;position: relative;}#sk-container-id-6 div.sk-item {position: relative;z-index: 1;}#sk-container-id-6 div.sk-parallel {display: flex;align-items: stretch;justify-content: center;background-color: white;position: relative;}#sk-container-id-6 div.sk-item::before, #sk-container-id-6 div.sk-parallel-item::before {content: \"\";position: absolute;border-left: 1px solid gray;box-sizing: border-box;top: 0;bottom: 0;left: 50%;z-index: -1;}#sk-container-id-6 div.sk-parallel-item {display: flex;flex-direction: column;z-index: 1;position: relative;background-color: white;}#sk-container-id-6 div.sk-parallel-item:first-child::after {align-self: flex-end;width: 50%;}#sk-container-id-6 div.sk-parallel-item:last-child::after {align-self: flex-start;width: 50%;}#sk-container-id-6 div.sk-parallel-item:only-child::after {width: 0;}#sk-container-id-6 div.sk-dashed-wrapped {border: 1px dashed gray;margin: 0 0.4em 0.5em 0.4em;box-sizing: border-box;padding-bottom: 0.4em;background-color: white;}#sk-container-id-6 div.sk-label label {font-family: monospace;font-weight: bold;display: inline-block;line-height: 1.2em;}#sk-container-id-6 div.sk-label-container {text-align: center;}#sk-container-id-6 div.sk-container {/* jupyter's `normalize.less` sets `[hidden] { display: none; }` but bootstrap.min.css set `[hidden] { display: none !important; }` so we also need the `!important` here to be able to override the default hidden behavior on the sphinx rendered scikit-learn.org. See: https://github.com/scikit-learn/scikit-learn/issues/21755 */display: inline-block !important;position: relative;}#sk-container-id-6 div.sk-text-repr-fallback {display: none;}</style><div id=\"sk-container-id-6\" class=\"sk-top-container\"><div class=\"sk-text-repr-fallback\"><pre>LogisticRegression()</pre><b>In a Jupyter environment, please rerun this cell to show the HTML representation or trust the notebook. <br />On GitHub, the HTML representation is unable to render, please try loading this page with nbviewer.org.</b></div><div class=\"sk-container\" hidden><div class=\"sk-item\"><div class=\"sk-estimator sk-toggleable\"><input class=\"sk-toggleable__control sk-hidden--visually\" id=\"sk-estimator-id-14\" type=\"checkbox\" checked><label for=\"sk-estimator-id-14\" class=\"sk-toggleable__label sk-toggleable__label-arrow\">LogisticRegression</label><div class=\"sk-toggleable__content\"><pre>LogisticRegression()</pre></div></div></div></div></div>"
            ]
          },
          "metadata": {},
          "execution_count": 42
        }
      ]
    },
    {
      "cell_type": "code",
      "source": [
        "y_pred = logistic.predict(X_test)\n",
        "\n",
        "print(y_pred)"
      ],
      "metadata": {
        "colab": {
          "base_uri": "https://localhost:8080/"
        },
        "id": "75KgNTEfHhSl",
        "outputId": "1e006240-b314-4632-83f2-2abff3609479"
      },
      "execution_count": null,
      "outputs": [
        {
          "output_type": "stream",
          "name": "stdout",
          "text": [
            "[0 1 1 1 1 0 0 1 0 0 1 0 1 1 0 0 1 0 0 1 1 1 0 1 0 0 0 1 0 1 1 1 0 1 1 1 0\n",
            " 0 1 1 0 1 1 0 1 0 0 1 0 1 1 0 0 0 0 0 1 1 1 1 0 1 1 0 0 0 0 1 0 0 1 1 0 1\n",
            " 1 0 1 0 1 1 1 1 0 0 1 1 0 1 1 0 1 1 0 0 1 1 0 0 0 0 0 0 1 0 0 1 1 1 0 1 0\n",
            " 0 0 1 1 1 0 1 1 0 0 1 0 0 1 0 1 1 1 0 0 0 0 0 0 0 1 0 1 1 0 1 1 0 0 1 0 1\n",
            " 0 0 0 1 1 0 1 1 0 0 1 1 0 1 0 0 1 1 1 0 0 0 1 0 1 1 0 1 1 1 1 1 1 0 1 0 0\n",
            " 0 0 1 1 0 1 0 1 1 0 0 0 1 1 1 1 1 0 1 0 0 1 1 1 0 0 0 1 0 0 1 1 1 0 1 0 1\n",
            " 1 0 0 1 0 0 1 0 0 0 1 0 1 1 0 0 0 0 1 1 1 1 0 1 0 1 0 0 1 1 0 0 1 1 0 1 1\n",
            " 1 1 1 1 1 1 0 1 1 0 1 0 1 1 1 0 0 1 0 1 0 1 1 1 0 0 0 0 0 0 1 0 1 1 1 0 1\n",
            " 1 0 1 1]\n"
          ]
        }
      ]
    },
    {
      "cell_type": "code",
      "source": [
        "logistic.predict_proba(X_test)"
      ],
      "metadata": {
        "colab": {
          "base_uri": "https://localhost:8080/"
        },
        "id": "Vsxk3mevHm_Q",
        "outputId": "79ad7a1f-e405-48cd-a397-64ad4adf8f75"
      },
      "execution_count": null,
      "outputs": [
        {
          "output_type": "execute_result",
          "data": {
            "text/plain": [
              "array([[7.56177215e-01, 2.43822785e-01],\n",
              "       [4.84836102e-02, 9.51516390e-01],\n",
              "       [3.87988137e-01, 6.12011863e-01],\n",
              "       [1.85088537e-03, 9.98149115e-01],\n",
              "       [1.60346334e-01, 8.39653666e-01],\n",
              "       [9.22124222e-01, 7.78757782e-02],\n",
              "       [5.62021061e-01, 4.37978939e-01],\n",
              "       [1.62487057e-01, 8.37512943e-01],\n",
              "       [9.48213617e-01, 5.17863827e-02],\n",
              "       [9.85415590e-01, 1.45844096e-02],\n",
              "       [1.47178474e-01, 8.52821526e-01],\n",
              "       [9.56508699e-01, 4.34913009e-02],\n",
              "       [7.62186489e-02, 9.23781351e-01],\n",
              "       [1.56886063e-01, 8.43113937e-01],\n",
              "       [9.22297988e-01, 7.77020124e-02],\n",
              "       [9.14375219e-01, 8.56247808e-02],\n",
              "       [1.80059445e-01, 8.19940555e-01],\n",
              "       [9.84404794e-01, 1.55952063e-02],\n",
              "       [9.29122904e-01, 7.08770962e-02],\n",
              "       [8.24601622e-03, 9.91753984e-01],\n",
              "       [2.04042504e-01, 7.95957496e-01],\n",
              "       [1.09332039e-01, 8.90667961e-01],\n",
              "       [7.57470321e-01, 2.42529679e-01],\n",
              "       [2.99443315e-01, 7.00556685e-01],\n",
              "       [9.66540940e-01, 3.34590602e-02],\n",
              "       [7.35254142e-01, 2.64745858e-01],\n",
              "       [9.76659932e-01, 2.33400676e-02],\n",
              "       [2.64194476e-01, 7.35805524e-01],\n",
              "       [7.84665673e-01, 2.15334327e-01],\n",
              "       [3.11644837e-01, 6.88355163e-01],\n",
              "       [1.30888454e-01, 8.69111546e-01],\n",
              "       [3.27311155e-02, 9.67268885e-01],\n",
              "       [9.98809524e-01, 1.19047628e-03],\n",
              "       [2.21574498e-01, 7.78425502e-01],\n",
              "       [2.84136234e-02, 9.71586377e-01],\n",
              "       [1.32246265e-01, 8.67753735e-01],\n",
              "       [9.98343936e-01, 1.65606421e-03],\n",
              "       [9.60927142e-01, 3.90728582e-02],\n",
              "       [5.98223954e-02, 9.40177605e-01],\n",
              "       [2.24265203e-01, 7.75734797e-01],\n",
              "       [9.88744150e-01, 1.12558499e-02],\n",
              "       [4.75160212e-03, 9.95248398e-01],\n",
              "       [3.27668236e-01, 6.72331764e-01],\n",
              "       [9.63665371e-01, 3.63346286e-02],\n",
              "       [4.41845151e-02, 9.55815485e-01],\n",
              "       [9.68846978e-01, 3.11530215e-02],\n",
              "       [9.00545766e-01, 9.94542344e-02],\n",
              "       [8.86800639e-03, 9.91131994e-01],\n",
              "       [9.45968940e-01, 5.40310602e-02],\n",
              "       [1.40086140e-01, 8.59913860e-01],\n",
              "       [1.35564865e-02, 9.86443514e-01],\n",
              "       [5.87453224e-01, 4.12546776e-01],\n",
              "       [8.23552143e-01, 1.76447857e-01],\n",
              "       [7.83418588e-01, 2.16581412e-01],\n",
              "       [6.93214814e-01, 3.06785186e-01],\n",
              "       [9.79897206e-01, 2.01027944e-02],\n",
              "       [2.67243539e-01, 7.32756461e-01],\n",
              "       [3.51340101e-01, 6.48659899e-01],\n",
              "       [1.52236425e-01, 8.47763575e-01],\n",
              "       [1.76113967e-01, 8.23886033e-01],\n",
              "       [9.98392658e-01, 1.60734241e-03],\n",
              "       [3.32053341e-01, 6.67946659e-01],\n",
              "       [1.32821145e-02, 9.86717885e-01],\n",
              "       [8.40663125e-01, 1.59336875e-01],\n",
              "       [9.38028645e-01, 6.19713546e-02],\n",
              "       [9.94968081e-01, 5.03191937e-03],\n",
              "       [9.45731638e-01, 5.42683621e-02],\n",
              "       [5.29918631e-02, 9.47008137e-01],\n",
              "       [6.15351370e-01, 3.84648630e-01],\n",
              "       [9.10121694e-01, 8.98783062e-02],\n",
              "       [4.05198849e-01, 5.94801151e-01],\n",
              "       [2.34029276e-02, 9.76597072e-01],\n",
              "       [5.68477883e-01, 4.31522117e-01],\n",
              "       [1.83926931e-01, 8.16073069e-01],\n",
              "       [1.88252122e-01, 8.11747878e-01],\n",
              "       [9.51048834e-01, 4.89511658e-02],\n",
              "       [8.43111294e-02, 9.15688871e-01],\n",
              "       [9.17907114e-01, 8.20928858e-02],\n",
              "       [2.66820426e-01, 7.33179574e-01],\n",
              "       [1.86139360e-01, 8.13860640e-01],\n",
              "       [2.25519251e-01, 7.74480749e-01],\n",
              "       [4.42146417e-01, 5.57853583e-01],\n",
              "       [7.78824487e-01, 2.21175513e-01],\n",
              "       [8.30339686e-01, 1.69660314e-01],\n",
              "       [4.15567836e-01, 5.84432164e-01],\n",
              "       [1.19909376e-02, 9.88009062e-01],\n",
              "       [6.59880358e-01, 3.40119642e-01],\n",
              "       [3.03845737e-02, 9.69615426e-01],\n",
              "       [1.88602302e-01, 8.11397698e-01],\n",
              "       [9.50525833e-01, 4.94741665e-02],\n",
              "       [1.40352474e-01, 8.59647526e-01],\n",
              "       [1.35237686e-01, 8.64762314e-01],\n",
              "       [9.47829535e-01, 5.21704653e-02],\n",
              "       [7.59502543e-01, 2.40497457e-01],\n",
              "       [3.41183684e-01, 6.58816316e-01],\n",
              "       [2.85306227e-01, 7.14693773e-01],\n",
              "       [9.77150083e-01, 2.28499171e-02],\n",
              "       [9.88589747e-01, 1.14102531e-02],\n",
              "       [9.00495546e-01, 9.95044544e-02],\n",
              "       [6.15112657e-01, 3.84887343e-01],\n",
              "       [8.35168328e-01, 1.64831672e-01],\n",
              "       [7.37594848e-01, 2.62405152e-01],\n",
              "       [1.07817716e-01, 8.92182284e-01],\n",
              "       [9.97617026e-01, 2.38297357e-03],\n",
              "       [9.71288855e-01, 2.87111446e-02],\n",
              "       [4.60359082e-01, 5.39640918e-01],\n",
              "       [6.52829268e-02, 9.34717073e-01],\n",
              "       [1.89631138e-02, 9.81036886e-01],\n",
              "       [5.28460962e-01, 4.71539038e-01],\n",
              "       [8.01419764e-02, 9.19858024e-01],\n",
              "       [7.77150332e-01, 2.22849668e-01],\n",
              "       [8.53667988e-01, 1.46332012e-01],\n",
              "       [9.53561902e-01, 4.64380977e-02],\n",
              "       [1.08933793e-01, 8.91066207e-01],\n",
              "       [3.70101375e-01, 6.29898625e-01],\n",
              "       [1.24247386e-01, 8.75752614e-01],\n",
              "       [9.49056540e-01, 5.09434604e-02],\n",
              "       [4.24772948e-01, 5.75227052e-01],\n",
              "       [2.48132417e-01, 7.51867583e-01],\n",
              "       [8.22442498e-01, 1.77557502e-01],\n",
              "       [9.82315492e-01, 1.76845075e-02],\n",
              "       [1.40260897e-01, 8.59739103e-01],\n",
              "       [8.67715762e-01, 1.32284238e-01],\n",
              "       [9.63976912e-01, 3.60230882e-02],\n",
              "       [2.32694704e-01, 7.67305296e-01],\n",
              "       [9.19231372e-01, 8.07686276e-02],\n",
              "       [1.14399833e-01, 8.85600167e-01],\n",
              "       [1.15466516e-01, 8.84533484e-01],\n",
              "       [3.84789583e-01, 6.15210417e-01],\n",
              "       [9.80765058e-01, 1.92349422e-02],\n",
              "       [7.96826680e-01, 2.03173320e-01],\n",
              "       [6.14810082e-01, 3.85189918e-01],\n",
              "       [9.95603934e-01, 4.39606649e-03],\n",
              "       [9.90373760e-01, 9.62623991e-03],\n",
              "       [9.32174554e-01, 6.78254459e-02],\n",
              "       [7.36463060e-01, 2.63536940e-01],\n",
              "       [3.92295585e-01, 6.07704415e-01],\n",
              "       [9.05344586e-01, 9.46554140e-02],\n",
              "       [2.25981355e-01, 7.74018645e-01],\n",
              "       [3.94172187e-01, 6.05827813e-01],\n",
              "       [6.89322661e-01, 3.10677339e-01],\n",
              "       [2.03958773e-01, 7.96041227e-01],\n",
              "       [5.99929862e-02, 9.40007014e-01],\n",
              "       [9.92803623e-01, 7.19637696e-03],\n",
              "       [9.99279906e-01, 7.20093538e-04],\n",
              "       [5.49585297e-02, 9.45041470e-01],\n",
              "       [9.82585595e-01, 1.74144054e-02],\n",
              "       [1.48753125e-01, 8.51246875e-01],\n",
              "       [8.22539344e-01, 1.77460656e-01],\n",
              "       [5.23748063e-01, 4.76251937e-01],\n",
              "       [8.81219972e-01, 1.18780028e-01],\n",
              "       [4.32557986e-02, 9.56744201e-01],\n",
              "       [3.00050562e-01, 6.99949438e-01],\n",
              "       [9.85426287e-01, 1.45737132e-02],\n",
              "       [1.21220501e-01, 8.78779499e-01],\n",
              "       [1.07014345e-02, 9.89298566e-01],\n",
              "       [9.43396158e-01, 5.66038418e-02],\n",
              "       [5.76375860e-01, 4.23624140e-01],\n",
              "       [3.63776208e-01, 6.36223792e-01],\n",
              "       [1.87747248e-01, 8.12252752e-01],\n",
              "       [9.95288930e-01, 4.71106953e-03],\n",
              "       [8.50995029e-02, 9.14900497e-01],\n",
              "       [8.81334663e-01, 1.18665337e-01],\n",
              "       [9.41236027e-01, 5.87639728e-02],\n",
              "       [9.74314822e-02, 9.02568518e-01],\n",
              "       [9.77370139e-02, 9.02262986e-01],\n",
              "       [2.37055914e-01, 7.62944086e-01],\n",
              "       [6.39122712e-01, 3.60877288e-01],\n",
              "       [5.46779965e-01, 4.53220035e-01],\n",
              "       [8.35555902e-01, 1.64444098e-01],\n",
              "       [4.57403853e-02, 9.54259615e-01],\n",
              "       [9.84580867e-01, 1.54191332e-02],\n",
              "       [8.23457167e-03, 9.91765428e-01],\n",
              "       [1.01839847e-01, 8.98160153e-01],\n",
              "       [9.37639365e-01, 6.23606347e-02],\n",
              "       [9.44196330e-03, 9.90558037e-01],\n",
              "       [2.54011744e-01, 7.45988256e-01],\n",
              "       [5.35530265e-03, 9.94644697e-01],\n",
              "       [1.69134476e-01, 8.30865524e-01],\n",
              "       [1.99940147e-01, 8.00059853e-01],\n",
              "       [1.20333673e-01, 8.79666327e-01],\n",
              "       [7.63799039e-01, 2.36200961e-01],\n",
              "       [1.28639252e-01, 8.71360748e-01],\n",
              "       [9.64035909e-01, 3.59640906e-02],\n",
              "       [9.77213700e-01, 2.27862999e-02],\n",
              "       [9.56500590e-01, 4.34994101e-02],\n",
              "       [6.81186032e-01, 3.18813968e-01],\n",
              "       [6.79646878e-02, 9.32035312e-01],\n",
              "       [1.23255208e-02, 9.87674479e-01],\n",
              "       [9.46287217e-01, 5.37127834e-02],\n",
              "       [1.36795991e-01, 8.63204009e-01],\n",
              "       [9.29372782e-01, 7.06272184e-02],\n",
              "       [4.36204609e-01, 5.63795391e-01],\n",
              "       [1.80585966e-01, 8.19414034e-01],\n",
              "       [7.27985514e-01, 2.72014486e-01],\n",
              "       [9.59903437e-01, 4.00965634e-02],\n",
              "       [5.55094027e-01, 4.44905973e-01],\n",
              "       [2.66056437e-01, 7.33943563e-01],\n",
              "       [4.48940453e-02, 9.55105955e-01],\n",
              "       [2.73167036e-03, 9.97268330e-01],\n",
              "       [3.65629816e-01, 6.34370184e-01],\n",
              "       [2.67513473e-01, 7.32486527e-01],\n",
              "       [9.48223502e-01, 5.17764978e-02],\n",
              "       [5.74531866e-02, 9.42546813e-01],\n",
              "       [9.16072082e-01, 8.39279184e-02],\n",
              "       [7.77971260e-01, 2.22028740e-01],\n",
              "       [1.39123101e-01, 8.60876899e-01],\n",
              "       [1.82539984e-01, 8.17460016e-01],\n",
              "       [7.80722204e-02, 9.21927780e-01],\n",
              "       [9.88745625e-01, 1.12543749e-02],\n",
              "       [9.52360741e-01, 4.76392593e-02],\n",
              "       [6.76485339e-01, 3.23514661e-01],\n",
              "       [3.45284032e-01, 6.54715968e-01],\n",
              "       [9.68742505e-01, 3.12574954e-02],\n",
              "       [9.89619389e-01, 1.03806112e-02],\n",
              "       [3.03358091e-01, 6.96641909e-01],\n",
              "       [1.67028711e-01, 8.32971289e-01],\n",
              "       [2.97953900e-01, 7.02046100e-01],\n",
              "       [8.20611959e-01, 1.79388041e-01],\n",
              "       [1.37501559e-02, 9.86249844e-01],\n",
              "       [8.61180232e-01, 1.38819768e-01],\n",
              "       [1.80304660e-02, 9.81969534e-01],\n",
              "       [2.79726503e-02, 9.72027350e-01],\n",
              "       [7.19729624e-01, 2.80270376e-01],\n",
              "       [9.85286013e-01, 1.47139871e-02],\n",
              "       [1.25283211e-03, 9.98747168e-01],\n",
              "       [9.44437585e-01, 5.55624148e-02],\n",
              "       [9.29111159e-01, 7.08888409e-02],\n",
              "       [5.20487186e-02, 9.47951281e-01],\n",
              "       [9.70976773e-01, 2.90232269e-02],\n",
              "       [9.66679213e-01, 3.33207873e-02],\n",
              "       [8.42738879e-01, 1.57261121e-01],\n",
              "       [2.33322192e-01, 7.66677808e-01],\n",
              "       [9.50516604e-01, 4.94833957e-02],\n",
              "       [4.24321551e-01, 5.75678449e-01],\n",
              "       [3.57680074e-02, 9.64231993e-01],\n",
              "       [9.46048555e-01, 5.39514447e-02],\n",
              "       [8.66995436e-01, 1.33004564e-01],\n",
              "       [9.41419495e-01, 5.85805046e-02],\n",
              "       [9.85619843e-01, 1.43801572e-02],\n",
              "       [1.49858099e-01, 8.50141901e-01],\n",
              "       [4.30827679e-01, 5.69172321e-01],\n",
              "       [9.29791113e-02, 9.07020889e-01],\n",
              "       [1.98801738e-01, 8.01198262e-01],\n",
              "       [7.86659929e-01, 2.13340071e-01],\n",
              "       [8.94247789e-04, 9.99105752e-01],\n",
              "       [9.90825597e-01, 9.17440339e-03],\n",
              "       [9.29237892e-02, 9.07076211e-01],\n",
              "       [9.52530307e-01, 4.74696926e-02],\n",
              "       [7.23616752e-01, 2.76383248e-01],\n",
              "       [1.24571428e-01, 8.75428572e-01],\n",
              "       [7.43640573e-02, 9.25635943e-01],\n",
              "       [8.16310429e-01, 1.83689571e-01],\n",
              "       [9.14122719e-01, 8.58772810e-02],\n",
              "       [5.93054787e-02, 9.40694521e-01],\n",
              "       [5.82610645e-02, 9.41738935e-01],\n",
              "       [8.01737741e-01, 1.98262259e-01],\n",
              "       [2.11736578e-01, 7.88263422e-01],\n",
              "       [7.35356345e-03, 9.92646437e-01],\n",
              "       [1.95925120e-01, 8.04074880e-01],\n",
              "       [6.79132452e-02, 9.32086755e-01],\n",
              "       [2.19232053e-01, 7.80767947e-01],\n",
              "       [3.57269209e-01, 6.42730791e-01],\n",
              "       [9.10910711e-02, 9.08908929e-01],\n",
              "       [1.12387809e-01, 8.87612191e-01],\n",
              "       [7.01109720e-01, 2.98890280e-01],\n",
              "       [3.41738531e-01, 6.58261469e-01],\n",
              "       [4.30007134e-01, 5.69992866e-01],\n",
              "       [9.43447462e-01, 5.65525385e-02],\n",
              "       [5.93978479e-02, 9.40602152e-01],\n",
              "       [5.83787976e-01, 4.16212024e-01],\n",
              "       [2.30076223e-01, 7.69923777e-01],\n",
              "       [4.45323590e-01, 5.54676410e-01],\n",
              "       [8.82296263e-02, 9.11770374e-01],\n",
              "       [9.97571024e-01, 2.42897628e-03],\n",
              "       [9.59437136e-01, 4.05628642e-02],\n",
              "       [4.60736713e-01, 5.39263287e-01],\n",
              "       [9.75676528e-01, 2.43234719e-02],\n",
              "       [1.56045910e-01, 8.43954090e-01],\n",
              "       [9.57133183e-01, 4.28668169e-02],\n",
              "       [7.71222769e-02, 9.22877723e-01],\n",
              "       [4.21179105e-01, 5.78820895e-01],\n",
              "       [4.08444604e-01, 5.91555396e-01],\n",
              "       [8.54120733e-01, 1.45879267e-01],\n",
              "       [9.69141369e-01, 3.08586309e-02],\n",
              "       [9.61678214e-01, 3.83217863e-02],\n",
              "       [9.63606666e-01, 3.63933344e-02],\n",
              "       [8.94130762e-01, 1.05869238e-01],\n",
              "       [7.57274896e-01, 2.42725104e-01],\n",
              "       [2.78516493e-01, 7.21483507e-01],\n",
              "       [9.89835701e-01, 1.01642986e-02],\n",
              "       [1.32227514e-02, 9.86777249e-01],\n",
              "       [3.88304650e-01, 6.11695350e-01],\n",
              "       [3.50708967e-01, 6.49291033e-01],\n",
              "       [9.92621093e-01, 7.37890691e-03],\n",
              "       [2.90609971e-01, 7.09390029e-01],\n",
              "       [8.58783491e-02, 9.14121651e-01],\n",
              "       [7.89545801e-01, 2.10454199e-01],\n",
              "       [2.24916919e-01, 7.75083081e-01],\n",
              "       [1.79390099e-02, 9.82060990e-01]])"
            ]
          },
          "metadata": {},
          "execution_count": 44
        }
      ]
    },
    {
      "cell_type": "code",
      "source": [
        "from sklearn.metrics import accuracy_score , confusion_matrix , classification_report"
      ],
      "metadata": {
        "id": "5FEbABSoH74x"
      },
      "execution_count": null,
      "outputs": []
    },
    {
      "cell_type": "code",
      "source": [
        "score = accuracy_score(y_test,y_pred)\n",
        "\n",
        "print(score)\n",
        "\n",
        "confusion = confusion_matrix(y_test,y_pred)\n",
        "\n",
        "print(confusion)\n",
        "\n",
        "\n",
        "classi = classification_report(y_test,y_pred)\n",
        "\n",
        "print(classi)\n"
      ],
      "metadata": {
        "colab": {
          "base_uri": "https://localhost:8080/"
        },
        "id": "xnApisUKIJFU",
        "outputId": "ac4651a2-b9d4-4da6-9e8a-d6ccea73ca43"
      },
      "execution_count": null,
      "outputs": [
        {
          "output_type": "stream",
          "name": "stdout",
          "text": [
            "0.8633333333333333\n",
            "[[126  24]\n",
            " [ 17 133]]\n",
            "              precision    recall  f1-score   support\n",
            "\n",
            "           0       0.88      0.84      0.86       150\n",
            "           1       0.85      0.89      0.87       150\n",
            "\n",
            "    accuracy                           0.86       300\n",
            "   macro avg       0.86      0.86      0.86       300\n",
            "weighted avg       0.86      0.86      0.86       300\n",
            "\n"
          ]
        }
      ]
    },
    {
      "cell_type": "markdown",
      "source": [
        "# HyperParameter Tuning and Cross Validation\n",
        "\n",
        "1. Grid Search CV\n",
        "2. Random Search CV"
      ],
      "metadata": {
        "id": "mE6nlI43p5jV"
      }
    },
    {
      "cell_type": "code",
      "source": [
        "model = LogisticRegression()\n",
        "\n",
        "# working with parameters\n",
        "penalty = ['l1','l2','elasticnet']\n",
        "\n",
        "\n",
        "c_value =  [100,10,1.0,0.1,0.01]\n",
        "\n",
        "solver = ['newton-cg','lbfgs','liblinear','sag','saga']\n",
        "\n",
        "max_iter = [100,150,200,250]\n"
      ],
      "metadata": {
        "id": "evWEm3BUI3oG"
      },
      "execution_count": null,
      "outputs": []
    },
    {
      "cell_type": "code",
      "source": [
        "dict(penalty = penalty , C = c_value , solver=solver)"
      ],
      "metadata": {
        "colab": {
          "base_uri": "https://localhost:8080/"
        },
        "id": "xkFrb_taq--h",
        "outputId": "19c7b0da-86ee-4cc3-fc7d-517503c7e739"
      },
      "execution_count": null,
      "outputs": [
        {
          "output_type": "execute_result",
          "data": {
            "text/plain": [
              "{'penalty': ['l1', 'l2', 'elasticnet'],\n",
              " 'C': [100, 10, 1.0, 0.1, 0.01],\n",
              " 'solver': ['newton-cg', 'lbfgs', 'liblinear', 'sag', 'saga']}"
            ]
          },
          "metadata": {},
          "execution_count": 48
        }
      ]
    },
    {
      "cell_type": "code",
      "source": [
        "params = dict(penalty = penalty , C = c_value , solver=solver)"
      ],
      "metadata": {
        "id": "6ovXtUu-rMZn"
      },
      "execution_count": null,
      "outputs": []
    },
    {
      "cell_type": "code",
      "source": [
        "type(params)"
      ],
      "metadata": {
        "colab": {
          "base_uri": "https://localhost:8080/"
        },
        "id": "5goWhJ-zrPo5",
        "outputId": "3756cb34-7879-41d9-b94a-0daa356f0b95"
      },
      "execution_count": null,
      "outputs": [
        {
          "output_type": "execute_result",
          "data": {
            "text/plain": [
              "dict"
            ]
          },
          "metadata": {},
          "execution_count": 50
        }
      ]
    },
    {
      "cell_type": "markdown",
      "source": [
        "#Grid Search CV\n",
        "\n",
        "here our goal is to find out the best parameters for the model."
      ],
      "metadata": {
        "id": "a9RKvSfKrTIJ"
      }
    },
    {
      "cell_type": "code",
      "source": [
        "from sklearn.model_selection import GridSearchCV\n",
        "from sklearn.model_selection import StratifiedKFold\n",
        "\n",
        "cv = StratifiedKFold()\n",
        "grid = GridSearchCV(estimator = model , param_grid = params, scoring = 'accuracy', cv =cv , n_jobs=-1)"
      ],
      "metadata": {
        "id": "HLsbi4KcrR-g"
      },
      "execution_count": null,
      "outputs": []
    },
    {
      "cell_type": "code",
      "source": [
        "grid"
      ],
      "metadata": {
        "colab": {
          "base_uri": "https://localhost:8080/",
          "height": 117
        },
        "id": "ogeW5hMMriCV",
        "outputId": "4250ba2d-6e32-4c8c-c8d4-2b0741939303"
      },
      "execution_count": null,
      "outputs": [
        {
          "output_type": "execute_result",
          "data": {
            "text/plain": [
              "GridSearchCV(cv=StratifiedKFold(n_splits=5, random_state=None, shuffle=False),\n",
              "             estimator=LogisticRegression(), n_jobs=-1,\n",
              "             param_grid={'C': [100, 10, 1.0, 0.1, 0.01],\n",
              "                         'penalty': ['l1', 'l2', 'elasticnet'],\n",
              "                         'solver': ['newton-cg', 'lbfgs', 'liblinear', 'sag',\n",
              "                                    'saga']},\n",
              "             scoring='accuracy')"
            ],
            "text/html": [
              "<style>#sk-container-id-7 {color: black;}#sk-container-id-7 pre{padding: 0;}#sk-container-id-7 div.sk-toggleable {background-color: white;}#sk-container-id-7 label.sk-toggleable__label {cursor: pointer;display: block;width: 100%;margin-bottom: 0;padding: 0.3em;box-sizing: border-box;text-align: center;}#sk-container-id-7 label.sk-toggleable__label-arrow:before {content: \"▸\";float: left;margin-right: 0.25em;color: #696969;}#sk-container-id-7 label.sk-toggleable__label-arrow:hover:before {color: black;}#sk-container-id-7 div.sk-estimator:hover label.sk-toggleable__label-arrow:before {color: black;}#sk-container-id-7 div.sk-toggleable__content {max-height: 0;max-width: 0;overflow: hidden;text-align: left;background-color: #f0f8ff;}#sk-container-id-7 div.sk-toggleable__content pre {margin: 0.2em;color: black;border-radius: 0.25em;background-color: #f0f8ff;}#sk-container-id-7 input.sk-toggleable__control:checked~div.sk-toggleable__content {max-height: 200px;max-width: 100%;overflow: auto;}#sk-container-id-7 input.sk-toggleable__control:checked~label.sk-toggleable__label-arrow:before {content: \"▾\";}#sk-container-id-7 div.sk-estimator input.sk-toggleable__control:checked~label.sk-toggleable__label {background-color: #d4ebff;}#sk-container-id-7 div.sk-label input.sk-toggleable__control:checked~label.sk-toggleable__label {background-color: #d4ebff;}#sk-container-id-7 input.sk-hidden--visually {border: 0;clip: rect(1px 1px 1px 1px);clip: rect(1px, 1px, 1px, 1px);height: 1px;margin: -1px;overflow: hidden;padding: 0;position: absolute;width: 1px;}#sk-container-id-7 div.sk-estimator {font-family: monospace;background-color: #f0f8ff;border: 1px dotted black;border-radius: 0.25em;box-sizing: border-box;margin-bottom: 0.5em;}#sk-container-id-7 div.sk-estimator:hover {background-color: #d4ebff;}#sk-container-id-7 div.sk-parallel-item::after {content: \"\";width: 100%;border-bottom: 1px solid gray;flex-grow: 1;}#sk-container-id-7 div.sk-label:hover label.sk-toggleable__label {background-color: #d4ebff;}#sk-container-id-7 div.sk-serial::before {content: \"\";position: absolute;border-left: 1px solid gray;box-sizing: border-box;top: 0;bottom: 0;left: 50%;z-index: 0;}#sk-container-id-7 div.sk-serial {display: flex;flex-direction: column;align-items: center;background-color: white;padding-right: 0.2em;padding-left: 0.2em;position: relative;}#sk-container-id-7 div.sk-item {position: relative;z-index: 1;}#sk-container-id-7 div.sk-parallel {display: flex;align-items: stretch;justify-content: center;background-color: white;position: relative;}#sk-container-id-7 div.sk-item::before, #sk-container-id-7 div.sk-parallel-item::before {content: \"\";position: absolute;border-left: 1px solid gray;box-sizing: border-box;top: 0;bottom: 0;left: 50%;z-index: -1;}#sk-container-id-7 div.sk-parallel-item {display: flex;flex-direction: column;z-index: 1;position: relative;background-color: white;}#sk-container-id-7 div.sk-parallel-item:first-child::after {align-self: flex-end;width: 50%;}#sk-container-id-7 div.sk-parallel-item:last-child::after {align-self: flex-start;width: 50%;}#sk-container-id-7 div.sk-parallel-item:only-child::after {width: 0;}#sk-container-id-7 div.sk-dashed-wrapped {border: 1px dashed gray;margin: 0 0.4em 0.5em 0.4em;box-sizing: border-box;padding-bottom: 0.4em;background-color: white;}#sk-container-id-7 div.sk-label label {font-family: monospace;font-weight: bold;display: inline-block;line-height: 1.2em;}#sk-container-id-7 div.sk-label-container {text-align: center;}#sk-container-id-7 div.sk-container {/* jupyter's `normalize.less` sets `[hidden] { display: none; }` but bootstrap.min.css set `[hidden] { display: none !important; }` so we also need the `!important` here to be able to override the default hidden behavior on the sphinx rendered scikit-learn.org. See: https://github.com/scikit-learn/scikit-learn/issues/21755 */display: inline-block !important;position: relative;}#sk-container-id-7 div.sk-text-repr-fallback {display: none;}</style><div id=\"sk-container-id-7\" class=\"sk-top-container\"><div class=\"sk-text-repr-fallback\"><pre>GridSearchCV(cv=StratifiedKFold(n_splits=5, random_state=None, shuffle=False),\n",
              "             estimator=LogisticRegression(), n_jobs=-1,\n",
              "             param_grid={&#x27;C&#x27;: [100, 10, 1.0, 0.1, 0.01],\n",
              "                         &#x27;penalty&#x27;: [&#x27;l1&#x27;, &#x27;l2&#x27;, &#x27;elasticnet&#x27;],\n",
              "                         &#x27;solver&#x27;: [&#x27;newton-cg&#x27;, &#x27;lbfgs&#x27;, &#x27;liblinear&#x27;, &#x27;sag&#x27;,\n",
              "                                    &#x27;saga&#x27;]},\n",
              "             scoring=&#x27;accuracy&#x27;)</pre><b>In a Jupyter environment, please rerun this cell to show the HTML representation or trust the notebook. <br />On GitHub, the HTML representation is unable to render, please try loading this page with nbviewer.org.</b></div><div class=\"sk-container\" hidden><div class=\"sk-item sk-dashed-wrapped\"><div class=\"sk-label-container\"><div class=\"sk-label sk-toggleable\"><input class=\"sk-toggleable__control sk-hidden--visually\" id=\"sk-estimator-id-15\" type=\"checkbox\" ><label for=\"sk-estimator-id-15\" class=\"sk-toggleable__label sk-toggleable__label-arrow\">GridSearchCV</label><div class=\"sk-toggleable__content\"><pre>GridSearchCV(cv=StratifiedKFold(n_splits=5, random_state=None, shuffle=False),\n",
              "             estimator=LogisticRegression(), n_jobs=-1,\n",
              "             param_grid={&#x27;C&#x27;: [100, 10, 1.0, 0.1, 0.01],\n",
              "                         &#x27;penalty&#x27;: [&#x27;l1&#x27;, &#x27;l2&#x27;, &#x27;elasticnet&#x27;],\n",
              "                         &#x27;solver&#x27;: [&#x27;newton-cg&#x27;, &#x27;lbfgs&#x27;, &#x27;liblinear&#x27;, &#x27;sag&#x27;,\n",
              "                                    &#x27;saga&#x27;]},\n",
              "             scoring=&#x27;accuracy&#x27;)</pre></div></div></div><div class=\"sk-parallel\"><div class=\"sk-parallel-item\"><div class=\"sk-item\"><div class=\"sk-label-container\"><div class=\"sk-label sk-toggleable\"><input class=\"sk-toggleable__control sk-hidden--visually\" id=\"sk-estimator-id-16\" type=\"checkbox\" ><label for=\"sk-estimator-id-16\" class=\"sk-toggleable__label sk-toggleable__label-arrow\">estimator: LogisticRegression</label><div class=\"sk-toggleable__content\"><pre>LogisticRegression()</pre></div></div></div><div class=\"sk-serial\"><div class=\"sk-item\"><div class=\"sk-estimator sk-toggleable\"><input class=\"sk-toggleable__control sk-hidden--visually\" id=\"sk-estimator-id-17\" type=\"checkbox\" ><label for=\"sk-estimator-id-17\" class=\"sk-toggleable__label sk-toggleable__label-arrow\">LogisticRegression</label><div class=\"sk-toggleable__content\"><pre>LogisticRegression()</pre></div></div></div></div></div></div></div></div></div></div>"
            ]
          },
          "metadata": {},
          "execution_count": 52
        }
      ]
    },
    {
      "cell_type": "code",
      "source": [
        "grid.fit(X_train,y_train)"
      ],
      "metadata": {
        "colab": {
          "base_uri": "https://localhost:8080/",
          "height": 1000
        },
        "id": "1DNPnTH9sZUo",
        "outputId": "78a82ed1-c02c-4ae4-e303-9a8b0c452660"
      },
      "execution_count": null,
      "outputs": [
        {
          "output_type": "stream",
          "name": "stderr",
          "text": [
            "/usr/local/lib/python3.10/dist-packages/sklearn/model_selection/_validation.py:425: FitFailedWarning: \n",
            "200 fits failed out of a total of 375.\n",
            "The score on these train-test partitions for these parameters will be set to nan.\n",
            "If these failures are not expected, you can try to debug them by setting error_score='raise'.\n",
            "\n",
            "Below are more details about the failures:\n",
            "--------------------------------------------------------------------------------\n",
            "25 fits failed with the following error:\n",
            "Traceback (most recent call last):\n",
            "  File \"/usr/local/lib/python3.10/dist-packages/sklearn/model_selection/_validation.py\", line 729, in _fit_and_score\n",
            "    estimator.fit(X_train, y_train, **fit_params)\n",
            "  File \"/usr/local/lib/python3.10/dist-packages/sklearn/base.py\", line 1152, in wrapper\n",
            "    return fit_method(estimator, *args, **kwargs)\n",
            "  File \"/usr/local/lib/python3.10/dist-packages/sklearn/linear_model/_logistic.py\", line 1169, in fit\n",
            "    solver = _check_solver(self.solver, self.penalty, self.dual)\n",
            "  File \"/usr/local/lib/python3.10/dist-packages/sklearn/linear_model/_logistic.py\", line 56, in _check_solver\n",
            "    raise ValueError(\n",
            "ValueError: Solver newton-cg supports only 'l2' or 'none' penalties, got l1 penalty.\n",
            "\n",
            "--------------------------------------------------------------------------------\n",
            "25 fits failed with the following error:\n",
            "Traceback (most recent call last):\n",
            "  File \"/usr/local/lib/python3.10/dist-packages/sklearn/model_selection/_validation.py\", line 729, in _fit_and_score\n",
            "    estimator.fit(X_train, y_train, **fit_params)\n",
            "  File \"/usr/local/lib/python3.10/dist-packages/sklearn/base.py\", line 1152, in wrapper\n",
            "    return fit_method(estimator, *args, **kwargs)\n",
            "  File \"/usr/local/lib/python3.10/dist-packages/sklearn/linear_model/_logistic.py\", line 1169, in fit\n",
            "    solver = _check_solver(self.solver, self.penalty, self.dual)\n",
            "  File \"/usr/local/lib/python3.10/dist-packages/sklearn/linear_model/_logistic.py\", line 56, in _check_solver\n",
            "    raise ValueError(\n",
            "ValueError: Solver lbfgs supports only 'l2' or 'none' penalties, got l1 penalty.\n",
            "\n",
            "--------------------------------------------------------------------------------\n",
            "25 fits failed with the following error:\n",
            "Traceback (most recent call last):\n",
            "  File \"/usr/local/lib/python3.10/dist-packages/sklearn/model_selection/_validation.py\", line 729, in _fit_and_score\n",
            "    estimator.fit(X_train, y_train, **fit_params)\n",
            "  File \"/usr/local/lib/python3.10/dist-packages/sklearn/base.py\", line 1152, in wrapper\n",
            "    return fit_method(estimator, *args, **kwargs)\n",
            "  File \"/usr/local/lib/python3.10/dist-packages/sklearn/linear_model/_logistic.py\", line 1169, in fit\n",
            "    solver = _check_solver(self.solver, self.penalty, self.dual)\n",
            "  File \"/usr/local/lib/python3.10/dist-packages/sklearn/linear_model/_logistic.py\", line 56, in _check_solver\n",
            "    raise ValueError(\n",
            "ValueError: Solver sag supports only 'l2' or 'none' penalties, got l1 penalty.\n",
            "\n",
            "--------------------------------------------------------------------------------\n",
            "25 fits failed with the following error:\n",
            "Traceback (most recent call last):\n",
            "  File \"/usr/local/lib/python3.10/dist-packages/sklearn/model_selection/_validation.py\", line 729, in _fit_and_score\n",
            "    estimator.fit(X_train, y_train, **fit_params)\n",
            "  File \"/usr/local/lib/python3.10/dist-packages/sklearn/base.py\", line 1152, in wrapper\n",
            "    return fit_method(estimator, *args, **kwargs)\n",
            "  File \"/usr/local/lib/python3.10/dist-packages/sklearn/linear_model/_logistic.py\", line 1169, in fit\n",
            "    solver = _check_solver(self.solver, self.penalty, self.dual)\n",
            "  File \"/usr/local/lib/python3.10/dist-packages/sklearn/linear_model/_logistic.py\", line 56, in _check_solver\n",
            "    raise ValueError(\n",
            "ValueError: Solver newton-cg supports only 'l2' or 'none' penalties, got elasticnet penalty.\n",
            "\n",
            "--------------------------------------------------------------------------------\n",
            "25 fits failed with the following error:\n",
            "Traceback (most recent call last):\n",
            "  File \"/usr/local/lib/python3.10/dist-packages/sklearn/model_selection/_validation.py\", line 729, in _fit_and_score\n",
            "    estimator.fit(X_train, y_train, **fit_params)\n",
            "  File \"/usr/local/lib/python3.10/dist-packages/sklearn/base.py\", line 1152, in wrapper\n",
            "    return fit_method(estimator, *args, **kwargs)\n",
            "  File \"/usr/local/lib/python3.10/dist-packages/sklearn/linear_model/_logistic.py\", line 1169, in fit\n",
            "    solver = _check_solver(self.solver, self.penalty, self.dual)\n",
            "  File \"/usr/local/lib/python3.10/dist-packages/sklearn/linear_model/_logistic.py\", line 56, in _check_solver\n",
            "    raise ValueError(\n",
            "ValueError: Solver lbfgs supports only 'l2' or 'none' penalties, got elasticnet penalty.\n",
            "\n",
            "--------------------------------------------------------------------------------\n",
            "25 fits failed with the following error:\n",
            "Traceback (most recent call last):\n",
            "  File \"/usr/local/lib/python3.10/dist-packages/sklearn/model_selection/_validation.py\", line 729, in _fit_and_score\n",
            "    estimator.fit(X_train, y_train, **fit_params)\n",
            "  File \"/usr/local/lib/python3.10/dist-packages/sklearn/base.py\", line 1152, in wrapper\n",
            "    return fit_method(estimator, *args, **kwargs)\n",
            "  File \"/usr/local/lib/python3.10/dist-packages/sklearn/linear_model/_logistic.py\", line 1169, in fit\n",
            "    solver = _check_solver(self.solver, self.penalty, self.dual)\n",
            "  File \"/usr/local/lib/python3.10/dist-packages/sklearn/linear_model/_logistic.py\", line 66, in _check_solver\n",
            "    raise ValueError(\n",
            "ValueError: Only 'saga' solver supports elasticnet penalty, got solver=liblinear.\n",
            "\n",
            "--------------------------------------------------------------------------------\n",
            "25 fits failed with the following error:\n",
            "Traceback (most recent call last):\n",
            "  File \"/usr/local/lib/python3.10/dist-packages/sklearn/model_selection/_validation.py\", line 729, in _fit_and_score\n",
            "    estimator.fit(X_train, y_train, **fit_params)\n",
            "  File \"/usr/local/lib/python3.10/dist-packages/sklearn/base.py\", line 1152, in wrapper\n",
            "    return fit_method(estimator, *args, **kwargs)\n",
            "  File \"/usr/local/lib/python3.10/dist-packages/sklearn/linear_model/_logistic.py\", line 1169, in fit\n",
            "    solver = _check_solver(self.solver, self.penalty, self.dual)\n",
            "  File \"/usr/local/lib/python3.10/dist-packages/sklearn/linear_model/_logistic.py\", line 56, in _check_solver\n",
            "    raise ValueError(\n",
            "ValueError: Solver sag supports only 'l2' or 'none' penalties, got elasticnet penalty.\n",
            "\n",
            "--------------------------------------------------------------------------------\n",
            "25 fits failed with the following error:\n",
            "Traceback (most recent call last):\n",
            "  File \"/usr/local/lib/python3.10/dist-packages/sklearn/model_selection/_validation.py\", line 729, in _fit_and_score\n",
            "    estimator.fit(X_train, y_train, **fit_params)\n",
            "  File \"/usr/local/lib/python3.10/dist-packages/sklearn/base.py\", line 1152, in wrapper\n",
            "    return fit_method(estimator, *args, **kwargs)\n",
            "  File \"/usr/local/lib/python3.10/dist-packages/sklearn/linear_model/_logistic.py\", line 1179, in fit\n",
            "    raise ValueError(\"l1_ratio must be specified when penalty is elasticnet.\")\n",
            "ValueError: l1_ratio must be specified when penalty is elasticnet.\n",
            "\n",
            "  warnings.warn(some_fits_failed_message, FitFailedWarning)\n",
            "/usr/local/lib/python3.10/dist-packages/sklearn/model_selection/_search.py:979: UserWarning: One or more of the test scores are non-finite: [       nan        nan 0.84285714        nan 0.84285714 0.84285714\n",
            " 0.84285714 0.84285714 0.84285714 0.84285714        nan        nan\n",
            "        nan        nan        nan        nan        nan 0.84285714\n",
            "        nan 0.84285714 0.84285714 0.84285714 0.84285714 0.84285714\n",
            " 0.84285714        nan        nan        nan        nan        nan\n",
            "        nan        nan 0.84428571        nan 0.84571429 0.84285714\n",
            " 0.84285714 0.84285714 0.84285714 0.84285714        nan        nan\n",
            "        nan        nan        nan        nan        nan 0.84\n",
            "        nan 0.84571429 0.84571429 0.84571429 0.84285714 0.84571429\n",
            " 0.84571429        nan        nan        nan        nan        nan\n",
            "        nan        nan 0.84571429        nan 0.85       0.84142857\n",
            " 0.84142857 0.83857143 0.84142857 0.84142857        nan        nan\n",
            "        nan        nan        nan]\n",
            "  warnings.warn(\n"
          ]
        },
        {
          "output_type": "execute_result",
          "data": {
            "text/plain": [
              "GridSearchCV(cv=StratifiedKFold(n_splits=5, random_state=None, shuffle=False),\n",
              "             estimator=LogisticRegression(), n_jobs=-1,\n",
              "             param_grid={'C': [100, 10, 1.0, 0.1, 0.01],\n",
              "                         'penalty': ['l1', 'l2', 'elasticnet'],\n",
              "                         'solver': ['newton-cg', 'lbfgs', 'liblinear', 'sag',\n",
              "                                    'saga']},\n",
              "             scoring='accuracy')"
            ],
            "text/html": [
              "<style>#sk-container-id-8 {color: black;}#sk-container-id-8 pre{padding: 0;}#sk-container-id-8 div.sk-toggleable {background-color: white;}#sk-container-id-8 label.sk-toggleable__label {cursor: pointer;display: block;width: 100%;margin-bottom: 0;padding: 0.3em;box-sizing: border-box;text-align: center;}#sk-container-id-8 label.sk-toggleable__label-arrow:before {content: \"▸\";float: left;margin-right: 0.25em;color: #696969;}#sk-container-id-8 label.sk-toggleable__label-arrow:hover:before {color: black;}#sk-container-id-8 div.sk-estimator:hover label.sk-toggleable__label-arrow:before {color: black;}#sk-container-id-8 div.sk-toggleable__content {max-height: 0;max-width: 0;overflow: hidden;text-align: left;background-color: #f0f8ff;}#sk-container-id-8 div.sk-toggleable__content pre {margin: 0.2em;color: black;border-radius: 0.25em;background-color: #f0f8ff;}#sk-container-id-8 input.sk-toggleable__control:checked~div.sk-toggleable__content {max-height: 200px;max-width: 100%;overflow: auto;}#sk-container-id-8 input.sk-toggleable__control:checked~label.sk-toggleable__label-arrow:before {content: \"▾\";}#sk-container-id-8 div.sk-estimator input.sk-toggleable__control:checked~label.sk-toggleable__label {background-color: #d4ebff;}#sk-container-id-8 div.sk-label input.sk-toggleable__control:checked~label.sk-toggleable__label {background-color: #d4ebff;}#sk-container-id-8 input.sk-hidden--visually {border: 0;clip: rect(1px 1px 1px 1px);clip: rect(1px, 1px, 1px, 1px);height: 1px;margin: -1px;overflow: hidden;padding: 0;position: absolute;width: 1px;}#sk-container-id-8 div.sk-estimator {font-family: monospace;background-color: #f0f8ff;border: 1px dotted black;border-radius: 0.25em;box-sizing: border-box;margin-bottom: 0.5em;}#sk-container-id-8 div.sk-estimator:hover {background-color: #d4ebff;}#sk-container-id-8 div.sk-parallel-item::after {content: \"\";width: 100%;border-bottom: 1px solid gray;flex-grow: 1;}#sk-container-id-8 div.sk-label:hover label.sk-toggleable__label {background-color: #d4ebff;}#sk-container-id-8 div.sk-serial::before {content: \"\";position: absolute;border-left: 1px solid gray;box-sizing: border-box;top: 0;bottom: 0;left: 50%;z-index: 0;}#sk-container-id-8 div.sk-serial {display: flex;flex-direction: column;align-items: center;background-color: white;padding-right: 0.2em;padding-left: 0.2em;position: relative;}#sk-container-id-8 div.sk-item {position: relative;z-index: 1;}#sk-container-id-8 div.sk-parallel {display: flex;align-items: stretch;justify-content: center;background-color: white;position: relative;}#sk-container-id-8 div.sk-item::before, #sk-container-id-8 div.sk-parallel-item::before {content: \"\";position: absolute;border-left: 1px solid gray;box-sizing: border-box;top: 0;bottom: 0;left: 50%;z-index: -1;}#sk-container-id-8 div.sk-parallel-item {display: flex;flex-direction: column;z-index: 1;position: relative;background-color: white;}#sk-container-id-8 div.sk-parallel-item:first-child::after {align-self: flex-end;width: 50%;}#sk-container-id-8 div.sk-parallel-item:last-child::after {align-self: flex-start;width: 50%;}#sk-container-id-8 div.sk-parallel-item:only-child::after {width: 0;}#sk-container-id-8 div.sk-dashed-wrapped {border: 1px dashed gray;margin: 0 0.4em 0.5em 0.4em;box-sizing: border-box;padding-bottom: 0.4em;background-color: white;}#sk-container-id-8 div.sk-label label {font-family: monospace;font-weight: bold;display: inline-block;line-height: 1.2em;}#sk-container-id-8 div.sk-label-container {text-align: center;}#sk-container-id-8 div.sk-container {/* jupyter's `normalize.less` sets `[hidden] { display: none; }` but bootstrap.min.css set `[hidden] { display: none !important; }` so we also need the `!important` here to be able to override the default hidden behavior on the sphinx rendered scikit-learn.org. See: https://github.com/scikit-learn/scikit-learn/issues/21755 */display: inline-block !important;position: relative;}#sk-container-id-8 div.sk-text-repr-fallback {display: none;}</style><div id=\"sk-container-id-8\" class=\"sk-top-container\"><div class=\"sk-text-repr-fallback\"><pre>GridSearchCV(cv=StratifiedKFold(n_splits=5, random_state=None, shuffle=False),\n",
              "             estimator=LogisticRegression(), n_jobs=-1,\n",
              "             param_grid={&#x27;C&#x27;: [100, 10, 1.0, 0.1, 0.01],\n",
              "                         &#x27;penalty&#x27;: [&#x27;l1&#x27;, &#x27;l2&#x27;, &#x27;elasticnet&#x27;],\n",
              "                         &#x27;solver&#x27;: [&#x27;newton-cg&#x27;, &#x27;lbfgs&#x27;, &#x27;liblinear&#x27;, &#x27;sag&#x27;,\n",
              "                                    &#x27;saga&#x27;]},\n",
              "             scoring=&#x27;accuracy&#x27;)</pre><b>In a Jupyter environment, please rerun this cell to show the HTML representation or trust the notebook. <br />On GitHub, the HTML representation is unable to render, please try loading this page with nbviewer.org.</b></div><div class=\"sk-container\" hidden><div class=\"sk-item sk-dashed-wrapped\"><div class=\"sk-label-container\"><div class=\"sk-label sk-toggleable\"><input class=\"sk-toggleable__control sk-hidden--visually\" id=\"sk-estimator-id-18\" type=\"checkbox\" ><label for=\"sk-estimator-id-18\" class=\"sk-toggleable__label sk-toggleable__label-arrow\">GridSearchCV</label><div class=\"sk-toggleable__content\"><pre>GridSearchCV(cv=StratifiedKFold(n_splits=5, random_state=None, shuffle=False),\n",
              "             estimator=LogisticRegression(), n_jobs=-1,\n",
              "             param_grid={&#x27;C&#x27;: [100, 10, 1.0, 0.1, 0.01],\n",
              "                         &#x27;penalty&#x27;: [&#x27;l1&#x27;, &#x27;l2&#x27;, &#x27;elasticnet&#x27;],\n",
              "                         &#x27;solver&#x27;: [&#x27;newton-cg&#x27;, &#x27;lbfgs&#x27;, &#x27;liblinear&#x27;, &#x27;sag&#x27;,\n",
              "                                    &#x27;saga&#x27;]},\n",
              "             scoring=&#x27;accuracy&#x27;)</pre></div></div></div><div class=\"sk-parallel\"><div class=\"sk-parallel-item\"><div class=\"sk-item\"><div class=\"sk-label-container\"><div class=\"sk-label sk-toggleable\"><input class=\"sk-toggleable__control sk-hidden--visually\" id=\"sk-estimator-id-19\" type=\"checkbox\" ><label for=\"sk-estimator-id-19\" class=\"sk-toggleable__label sk-toggleable__label-arrow\">estimator: LogisticRegression</label><div class=\"sk-toggleable__content\"><pre>LogisticRegression()</pre></div></div></div><div class=\"sk-serial\"><div class=\"sk-item\"><div class=\"sk-estimator sk-toggleable\"><input class=\"sk-toggleable__control sk-hidden--visually\" id=\"sk-estimator-id-20\" type=\"checkbox\" ><label for=\"sk-estimator-id-20\" class=\"sk-toggleable__label sk-toggleable__label-arrow\">LogisticRegression</label><div class=\"sk-toggleable__content\"><pre>LogisticRegression()</pre></div></div></div></div></div></div></div></div></div></div>"
            ]
          },
          "metadata": {},
          "execution_count": 53
        }
      ]
    },
    {
      "cell_type": "code",
      "source": [
        "grid.best_params_"
      ],
      "metadata": {
        "colab": {
          "base_uri": "https://localhost:8080/"
        },
        "id": "Pne_YPePsfA4",
        "outputId": "24e2001e-4f02-4f3c-afcd-7ee31f5e9686"
      },
      "execution_count": null,
      "outputs": [
        {
          "output_type": "execute_result",
          "data": {
            "text/plain": [
              "{'C': 0.01, 'penalty': 'l1', 'solver': 'saga'}"
            ]
          },
          "metadata": {},
          "execution_count": 54
        }
      ]
    },
    {
      "cell_type": "code",
      "source": [
        "grid.best_score_"
      ],
      "metadata": {
        "colab": {
          "base_uri": "https://localhost:8080/"
        },
        "id": "x110WtYfszD9",
        "outputId": "8d8bce02-fd4d-4af0-8cb8-79e9e331541c"
      },
      "execution_count": null,
      "outputs": [
        {
          "output_type": "execute_result",
          "data": {
            "text/plain": [
              "0.85"
            ]
          },
          "metadata": {},
          "execution_count": 55
        }
      ]
    },
    {
      "cell_type": "code",
      "source": [
        "y_pred = grid.predict(X_test)"
      ],
      "metadata": {
        "id": "h3oY4gz9s4LY"
      },
      "execution_count": null,
      "outputs": []
    },
    {
      "cell_type": "code",
      "source": [
        "score = accuracy_score (y_pred,y_test)\n",
        "\n",
        "print(score)\n",
        "\n",
        "print(classification_report(y_pred,y_test))\n",
        "\n",
        "print(confusion_matrix(y_pred,y_test))"
      ],
      "metadata": {
        "colab": {
          "base_uri": "https://localhost:8080/"
        },
        "id": "Dm67i23os9jb",
        "outputId": "0480e82d-f991-4b5f-adf6-b3e914b1fb7b"
      },
      "execution_count": null,
      "outputs": [
        {
          "output_type": "stream",
          "name": "stdout",
          "text": [
            "0.8733333333333333\n",
            "              precision    recall  f1-score   support\n",
            "\n",
            "           0       0.84      0.90      0.87       140\n",
            "           1       0.91      0.85      0.88       160\n",
            "\n",
            "    accuracy                           0.87       300\n",
            "   macro avg       0.87      0.88      0.87       300\n",
            "weighted avg       0.88      0.87      0.87       300\n",
            "\n",
            "[[126  14]\n",
            " [ 24 136]]\n"
          ]
        }
      ]
    },
    {
      "cell_type": "code",
      "source": [
        "# we can see that there is increase in the accuracy and other performance metrics using this particular technique."
      ],
      "metadata": {
        "id": "pbOVCEngtLyk"
      },
      "execution_count": null,
      "outputs": []
    },
    {
      "cell_type": "markdown",
      "source": [
        "# Randomized Search CV"
      ],
      "metadata": {
        "id": "PaGpRTH5txZH"
      }
    },
    {
      "cell_type": "code",
      "source": [
        "from sklearn.model_selection import RandomizedSearchCV\n"
      ],
      "metadata": {
        "id": "JkxR88RAtbER"
      },
      "execution_count": null,
      "outputs": []
    },
    {
      "cell_type": "code",
      "source": [
        "randomcv = RandomizedSearchCV(estimator = model , param_distributions= params,cv = 5 , scoring = 'accuracy')"
      ],
      "metadata": {
        "id": "_kJ_gqTluEGM"
      },
      "execution_count": null,
      "outputs": []
    },
    {
      "cell_type": "code",
      "source": [
        "randomcv.fit(X_train,y_train)"
      ],
      "metadata": {
        "colab": {
          "base_uri": "https://localhost:8080/",
          "height": 1000
        },
        "id": "daDBpwEnuaY5",
        "outputId": "57d88651-19df-4505-9ad3-60779e275b7c"
      },
      "execution_count": null,
      "outputs": [
        {
          "output_type": "stream",
          "name": "stderr",
          "text": [
            "/usr/local/lib/python3.10/dist-packages/sklearn/model_selection/_validation.py:425: FitFailedWarning: \n",
            "30 fits failed out of a total of 50.\n",
            "The score on these train-test partitions for these parameters will be set to nan.\n",
            "If these failures are not expected, you can try to debug them by setting error_score='raise'.\n",
            "\n",
            "Below are more details about the failures:\n",
            "--------------------------------------------------------------------------------\n",
            "10 fits failed with the following error:\n",
            "Traceback (most recent call last):\n",
            "  File \"/usr/local/lib/python3.10/dist-packages/sklearn/model_selection/_validation.py\", line 729, in _fit_and_score\n",
            "    estimator.fit(X_train, y_train, **fit_params)\n",
            "  File \"/usr/local/lib/python3.10/dist-packages/sklearn/base.py\", line 1152, in wrapper\n",
            "    return fit_method(estimator, *args, **kwargs)\n",
            "  File \"/usr/local/lib/python3.10/dist-packages/sklearn/linear_model/_logistic.py\", line 1169, in fit\n",
            "    solver = _check_solver(self.solver, self.penalty, self.dual)\n",
            "  File \"/usr/local/lib/python3.10/dist-packages/sklearn/linear_model/_logistic.py\", line 56, in _check_solver\n",
            "    raise ValueError(\n",
            "ValueError: Solver newton-cg supports only 'l2' or 'none' penalties, got l1 penalty.\n",
            "\n",
            "--------------------------------------------------------------------------------\n",
            "5 fits failed with the following error:\n",
            "Traceback (most recent call last):\n",
            "  File \"/usr/local/lib/python3.10/dist-packages/sklearn/model_selection/_validation.py\", line 729, in _fit_and_score\n",
            "    estimator.fit(X_train, y_train, **fit_params)\n",
            "  File \"/usr/local/lib/python3.10/dist-packages/sklearn/base.py\", line 1152, in wrapper\n",
            "    return fit_method(estimator, *args, **kwargs)\n",
            "  File \"/usr/local/lib/python3.10/dist-packages/sklearn/linear_model/_logistic.py\", line 1169, in fit\n",
            "    solver = _check_solver(self.solver, self.penalty, self.dual)\n",
            "  File \"/usr/local/lib/python3.10/dist-packages/sklearn/linear_model/_logistic.py\", line 56, in _check_solver\n",
            "    raise ValueError(\n",
            "ValueError: Solver sag supports only 'l2' or 'none' penalties, got elasticnet penalty.\n",
            "\n",
            "--------------------------------------------------------------------------------\n",
            "5 fits failed with the following error:\n",
            "Traceback (most recent call last):\n",
            "  File \"/usr/local/lib/python3.10/dist-packages/sklearn/model_selection/_validation.py\", line 729, in _fit_and_score\n",
            "    estimator.fit(X_train, y_train, **fit_params)\n",
            "  File \"/usr/local/lib/python3.10/dist-packages/sklearn/base.py\", line 1152, in wrapper\n",
            "    return fit_method(estimator, *args, **kwargs)\n",
            "  File \"/usr/local/lib/python3.10/dist-packages/sklearn/linear_model/_logistic.py\", line 1179, in fit\n",
            "    raise ValueError(\"l1_ratio must be specified when penalty is elasticnet.\")\n",
            "ValueError: l1_ratio must be specified when penalty is elasticnet.\n",
            "\n",
            "--------------------------------------------------------------------------------\n",
            "10 fits failed with the following error:\n",
            "Traceback (most recent call last):\n",
            "  File \"/usr/local/lib/python3.10/dist-packages/sklearn/model_selection/_validation.py\", line 729, in _fit_and_score\n",
            "    estimator.fit(X_train, y_train, **fit_params)\n",
            "  File \"/usr/local/lib/python3.10/dist-packages/sklearn/base.py\", line 1152, in wrapper\n",
            "    return fit_method(estimator, *args, **kwargs)\n",
            "  File \"/usr/local/lib/python3.10/dist-packages/sklearn/linear_model/_logistic.py\", line 1169, in fit\n",
            "    solver = _check_solver(self.solver, self.penalty, self.dual)\n",
            "  File \"/usr/local/lib/python3.10/dist-packages/sklearn/linear_model/_logistic.py\", line 56, in _check_solver\n",
            "    raise ValueError(\n",
            "ValueError: Solver sag supports only 'l2' or 'none' penalties, got l1 penalty.\n",
            "\n",
            "  warnings.warn(some_fits_failed_message, FitFailedWarning)\n",
            "/usr/local/lib/python3.10/dist-packages/sklearn/model_selection/_search.py:979: UserWarning: One or more of the test scores are non-finite: [0.84285714        nan        nan 0.84285714        nan 0.84142857\n",
            "        nan        nan        nan 0.84285714]\n",
            "  warnings.warn(\n"
          ]
        },
        {
          "output_type": "execute_result",
          "data": {
            "text/plain": [
              "RandomizedSearchCV(cv=5, estimator=LogisticRegression(),\n",
              "                   param_distributions={'C': [100, 10, 1.0, 0.1, 0.01],\n",
              "                                        'penalty': ['l1', 'l2', 'elasticnet'],\n",
              "                                        'solver': ['newton-cg', 'lbfgs',\n",
              "                                                   'liblinear', 'sag',\n",
              "                                                   'saga']},\n",
              "                   scoring='accuracy')"
            ],
            "text/html": [
              "<style>#sk-container-id-9 {color: black;}#sk-container-id-9 pre{padding: 0;}#sk-container-id-9 div.sk-toggleable {background-color: white;}#sk-container-id-9 label.sk-toggleable__label {cursor: pointer;display: block;width: 100%;margin-bottom: 0;padding: 0.3em;box-sizing: border-box;text-align: center;}#sk-container-id-9 label.sk-toggleable__label-arrow:before {content: \"▸\";float: left;margin-right: 0.25em;color: #696969;}#sk-container-id-9 label.sk-toggleable__label-arrow:hover:before {color: black;}#sk-container-id-9 div.sk-estimator:hover label.sk-toggleable__label-arrow:before {color: black;}#sk-container-id-9 div.sk-toggleable__content {max-height: 0;max-width: 0;overflow: hidden;text-align: left;background-color: #f0f8ff;}#sk-container-id-9 div.sk-toggleable__content pre {margin: 0.2em;color: black;border-radius: 0.25em;background-color: #f0f8ff;}#sk-container-id-9 input.sk-toggleable__control:checked~div.sk-toggleable__content {max-height: 200px;max-width: 100%;overflow: auto;}#sk-container-id-9 input.sk-toggleable__control:checked~label.sk-toggleable__label-arrow:before {content: \"▾\";}#sk-container-id-9 div.sk-estimator input.sk-toggleable__control:checked~label.sk-toggleable__label {background-color: #d4ebff;}#sk-container-id-9 div.sk-label input.sk-toggleable__control:checked~label.sk-toggleable__label {background-color: #d4ebff;}#sk-container-id-9 input.sk-hidden--visually {border: 0;clip: rect(1px 1px 1px 1px);clip: rect(1px, 1px, 1px, 1px);height: 1px;margin: -1px;overflow: hidden;padding: 0;position: absolute;width: 1px;}#sk-container-id-9 div.sk-estimator {font-family: monospace;background-color: #f0f8ff;border: 1px dotted black;border-radius: 0.25em;box-sizing: border-box;margin-bottom: 0.5em;}#sk-container-id-9 div.sk-estimator:hover {background-color: #d4ebff;}#sk-container-id-9 div.sk-parallel-item::after {content: \"\";width: 100%;border-bottom: 1px solid gray;flex-grow: 1;}#sk-container-id-9 div.sk-label:hover label.sk-toggleable__label {background-color: #d4ebff;}#sk-container-id-9 div.sk-serial::before {content: \"\";position: absolute;border-left: 1px solid gray;box-sizing: border-box;top: 0;bottom: 0;left: 50%;z-index: 0;}#sk-container-id-9 div.sk-serial {display: flex;flex-direction: column;align-items: center;background-color: white;padding-right: 0.2em;padding-left: 0.2em;position: relative;}#sk-container-id-9 div.sk-item {position: relative;z-index: 1;}#sk-container-id-9 div.sk-parallel {display: flex;align-items: stretch;justify-content: center;background-color: white;position: relative;}#sk-container-id-9 div.sk-item::before, #sk-container-id-9 div.sk-parallel-item::before {content: \"\";position: absolute;border-left: 1px solid gray;box-sizing: border-box;top: 0;bottom: 0;left: 50%;z-index: -1;}#sk-container-id-9 div.sk-parallel-item {display: flex;flex-direction: column;z-index: 1;position: relative;background-color: white;}#sk-container-id-9 div.sk-parallel-item:first-child::after {align-self: flex-end;width: 50%;}#sk-container-id-9 div.sk-parallel-item:last-child::after {align-self: flex-start;width: 50%;}#sk-container-id-9 div.sk-parallel-item:only-child::after {width: 0;}#sk-container-id-9 div.sk-dashed-wrapped {border: 1px dashed gray;margin: 0 0.4em 0.5em 0.4em;box-sizing: border-box;padding-bottom: 0.4em;background-color: white;}#sk-container-id-9 div.sk-label label {font-family: monospace;font-weight: bold;display: inline-block;line-height: 1.2em;}#sk-container-id-9 div.sk-label-container {text-align: center;}#sk-container-id-9 div.sk-container {/* jupyter's `normalize.less` sets `[hidden] { display: none; }` but bootstrap.min.css set `[hidden] { display: none !important; }` so we also need the `!important` here to be able to override the default hidden behavior on the sphinx rendered scikit-learn.org. See: https://github.com/scikit-learn/scikit-learn/issues/21755 */display: inline-block !important;position: relative;}#sk-container-id-9 div.sk-text-repr-fallback {display: none;}</style><div id=\"sk-container-id-9\" class=\"sk-top-container\"><div class=\"sk-text-repr-fallback\"><pre>RandomizedSearchCV(cv=5, estimator=LogisticRegression(),\n",
              "                   param_distributions={&#x27;C&#x27;: [100, 10, 1.0, 0.1, 0.01],\n",
              "                                        &#x27;penalty&#x27;: [&#x27;l1&#x27;, &#x27;l2&#x27;, &#x27;elasticnet&#x27;],\n",
              "                                        &#x27;solver&#x27;: [&#x27;newton-cg&#x27;, &#x27;lbfgs&#x27;,\n",
              "                                                   &#x27;liblinear&#x27;, &#x27;sag&#x27;,\n",
              "                                                   &#x27;saga&#x27;]},\n",
              "                   scoring=&#x27;accuracy&#x27;)</pre><b>In a Jupyter environment, please rerun this cell to show the HTML representation or trust the notebook. <br />On GitHub, the HTML representation is unable to render, please try loading this page with nbviewer.org.</b></div><div class=\"sk-container\" hidden><div class=\"sk-item sk-dashed-wrapped\"><div class=\"sk-label-container\"><div class=\"sk-label sk-toggleable\"><input class=\"sk-toggleable__control sk-hidden--visually\" id=\"sk-estimator-id-21\" type=\"checkbox\" ><label for=\"sk-estimator-id-21\" class=\"sk-toggleable__label sk-toggleable__label-arrow\">RandomizedSearchCV</label><div class=\"sk-toggleable__content\"><pre>RandomizedSearchCV(cv=5, estimator=LogisticRegression(),\n",
              "                   param_distributions={&#x27;C&#x27;: [100, 10, 1.0, 0.1, 0.01],\n",
              "                                        &#x27;penalty&#x27;: [&#x27;l1&#x27;, &#x27;l2&#x27;, &#x27;elasticnet&#x27;],\n",
              "                                        &#x27;solver&#x27;: [&#x27;newton-cg&#x27;, &#x27;lbfgs&#x27;,\n",
              "                                                   &#x27;liblinear&#x27;, &#x27;sag&#x27;,\n",
              "                                                   &#x27;saga&#x27;]},\n",
              "                   scoring=&#x27;accuracy&#x27;)</pre></div></div></div><div class=\"sk-parallel\"><div class=\"sk-parallel-item\"><div class=\"sk-item\"><div class=\"sk-label-container\"><div class=\"sk-label sk-toggleable\"><input class=\"sk-toggleable__control sk-hidden--visually\" id=\"sk-estimator-id-22\" type=\"checkbox\" ><label for=\"sk-estimator-id-22\" class=\"sk-toggleable__label sk-toggleable__label-arrow\">estimator: LogisticRegression</label><div class=\"sk-toggleable__content\"><pre>LogisticRegression()</pre></div></div></div><div class=\"sk-serial\"><div class=\"sk-item\"><div class=\"sk-estimator sk-toggleable\"><input class=\"sk-toggleable__control sk-hidden--visually\" id=\"sk-estimator-id-23\" type=\"checkbox\" ><label for=\"sk-estimator-id-23\" class=\"sk-toggleable__label sk-toggleable__label-arrow\">LogisticRegression</label><div class=\"sk-toggleable__content\"><pre>LogisticRegression()</pre></div></div></div></div></div></div></div></div></div></div>"
            ]
          },
          "metadata": {},
          "execution_count": 62
        }
      ]
    },
    {
      "cell_type": "code",
      "source": [
        "randomcv.best_score_"
      ],
      "metadata": {
        "colab": {
          "base_uri": "https://localhost:8080/"
        },
        "id": "lKfYIxc4umHn",
        "outputId": "8f053626-d9b4-4977-c97c-2e929ed9d535"
      },
      "execution_count": null,
      "outputs": [
        {
          "output_type": "execute_result",
          "data": {
            "text/plain": [
              "0.8428571428571429"
            ]
          },
          "metadata": {},
          "execution_count": 63
        }
      ]
    },
    {
      "cell_type": "code",
      "source": [
        "randomcv.best_params_"
      ],
      "metadata": {
        "colab": {
          "base_uri": "https://localhost:8080/"
        },
        "id": "WiP2BirauqwE",
        "outputId": "6564d276-4e2a-471f-c6e8-da7a24201e41"
      },
      "execution_count": null,
      "outputs": [
        {
          "output_type": "execute_result",
          "data": {
            "text/plain": [
              "{'solver': 'saga', 'penalty': 'l2', 'C': 100}"
            ]
          },
          "metadata": {},
          "execution_count": 64
        }
      ]
    },
    {
      "cell_type": "code",
      "source": [
        "y_pred = randomcv.predict(X_test)"
      ],
      "metadata": {
        "id": "jXDnEoR1utWx"
      },
      "execution_count": null,
      "outputs": []
    },
    {
      "cell_type": "code",
      "source": [
        "score = accuracy_score (y_pred,y_test)\n",
        "\n",
        "print(score)\n",
        "\n",
        "print(classification_report(y_pred,y_test))\n",
        "\n",
        "print(confusion_matrix(y_pred,y_test))"
      ],
      "metadata": {
        "colab": {
          "base_uri": "https://localhost:8080/"
        },
        "id": "P8zCTes1u1uZ",
        "outputId": "4f112dce-fac7-4bda-9543-119c63cdd44d"
      },
      "execution_count": null,
      "outputs": [
        {
          "output_type": "stream",
          "name": "stdout",
          "text": [
            "0.8633333333333333\n",
            "              precision    recall  f1-score   support\n",
            "\n",
            "           0       0.84      0.88      0.86       143\n",
            "           1       0.89      0.85      0.87       157\n",
            "\n",
            "    accuracy                           0.86       300\n",
            "   macro avg       0.86      0.86      0.86       300\n",
            "weighted avg       0.86      0.86      0.86       300\n",
            "\n",
            "[[126  17]\n",
            " [ 24 133]]\n"
          ]
        }
      ]
    },
    {
      "cell_type": "code",
      "source": [
        "# advantage of randomized search cv is that it takes less time than gridsearch cv in case of large datasets."
      ],
      "metadata": {
        "id": "5FXVRiqhu5PM"
      },
      "execution_count": null,
      "outputs": []
    }
  ]
}